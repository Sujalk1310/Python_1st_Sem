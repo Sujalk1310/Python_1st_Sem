{
 "cells": [
  {
   "cell_type": "code",
   "execution_count": null,
   "metadata": {},
   "outputs": [],
   "source": [
    "'''\n",
    "Errors in Programming --->\n",
    "Errors are the problem or fault occurs in the program that makes the behavior of the program abnormal.\n",
    "\n",
    "We consider two types of errors mainly --->\n",
    "1. Syntax Error\n",
    "2. Exceptions\n",
    "'''"
   ]
  },
  {
   "cell_type": "code",
   "execution_count": null,
   "metadata": {},
   "outputs": [],
   "source": [
    "# Errors in our program\n",
    "'''\n",
    "1. Syntax Error : Error before it runs the program / mistake in coding structure.\n",
    "2. Run-time Error (Exceptions) : Run-Time Errors.\n",
    "    Find the error --> Take Cautions --> Fix it. \n",
    "3. Logic Error : When the result is incorrect. \n",
    "'''"
   ]
  },
  {
   "cell_type": "code",
   "execution_count": 1,
   "metadata": {},
   "outputs": [
    {
     "ename": "SyntaxError",
     "evalue": "unterminated string literal (detected at line 1) (Temp/ipykernel_13624/339902211.py, line 1)",
     "output_type": "error",
     "traceback": [
      "\u001b[1;36m  File \u001b[1;32m\"C:\\Users\\MR973D~1.SKA\\AppData\\Local\\Temp/ipykernel_13624/339902211.py\"\u001b[1;36m, line \u001b[1;32m1\u001b[0m\n\u001b[1;33m    print ('hello world)\u001b[0m\n\u001b[1;37m           ^\u001b[0m\n\u001b[1;31mSyntaxError\u001b[0m\u001b[1;31m:\u001b[0m unterminated string literal (detected at line 1)\n"
     ]
    }
   ],
   "source": [
    "# For Example ---> Syntax Error !! \n",
    "print ('hello world)"
   ]
  },
  {
   "cell_type": "code",
   "execution_count": null,
   "metadata": {},
   "outputs": [],
   "source": [
    "# Types of method --->\n",
    "# 1. Try - Except method !!\n",
    "# 2. Try - Except - Else method !!"
   ]
  },
  {
   "cell_type": "code",
   "execution_count": 5,
   "metadata": {},
   "outputs": [
    {
     "ename": "TypeError",
     "evalue": "",
     "output_type": "error",
     "traceback": [
      "\u001b[1;31m---------------------------------------------------------------------------\u001b[0m",
      "\u001b[1;31mZeroDivisionError\u001b[0m                         Traceback (most recent call last)",
      "\u001b[1;32mC:\\Users\\MR973D~1.SKA\\AppData\\Local\\Temp/ipykernel_2416/518701836.py\u001b[0m in \u001b[0;36m<module>\u001b[1;34m\u001b[0m\n\u001b[0;32m      5\u001b[0m     \u001b[1;31m# Operation\u001b[0m\u001b[1;33m\u001b[0m\u001b[1;33m\u001b[0m\u001b[0m\n\u001b[1;32m----> 6\u001b[1;33m     \u001b[0mc\u001b[0m \u001b[1;33m=\u001b[0m \u001b[0ma\u001b[0m \u001b[1;33m/\u001b[0m \u001b[0mb\u001b[0m\u001b[1;33m\u001b[0m\u001b[1;33m\u001b[0m\u001b[0m\n\u001b[0m\u001b[0;32m      7\u001b[0m     \u001b[0mA\u001b[0m \u001b[1;33m=\u001b[0m \u001b[0msin\u001b[0m\u001b[1;33m(\u001b[0m\u001b[0ma\u001b[0m\u001b[1;33m)\u001b[0m\u001b[1;33m\u001b[0m\u001b[1;33m\u001b[0m\u001b[0m\n",
      "\u001b[1;31mZeroDivisionError\u001b[0m: division by zero",
      "\nDuring handling of the above exception, another exception occurred:\n",
      "\u001b[1;31mTypeError\u001b[0m                                 Traceback (most recent call last)",
      "\u001b[1;32mC:\\Users\\MR973D~1.SKA\\AppData\\Local\\Temp/ipykernel_2416/518701836.py\u001b[0m in \u001b[0;36m<module>\u001b[1;34m\u001b[0m\n\u001b[0;32m      7\u001b[0m     \u001b[0mA\u001b[0m \u001b[1;33m=\u001b[0m \u001b[0msin\u001b[0m\u001b[1;33m(\u001b[0m\u001b[0ma\u001b[0m\u001b[1;33m)\u001b[0m\u001b[1;33m\u001b[0m\u001b[1;33m\u001b[0m\u001b[0m\n\u001b[0;32m      8\u001b[0m \u001b[1;32mexcept\u001b[0m \u001b[0mException\u001b[0m \u001b[1;32mas\u001b[0m \u001b[0me\u001b[0m \u001b[1;33m:\u001b[0m \u001b[1;31m# (ZeroDivisionError,NameError)\u001b[0m\u001b[1;33m\u001b[0m\u001b[1;33m\u001b[0m\u001b[0m\n\u001b[1;32m----> 9\u001b[1;33m     \u001b[1;32mraise\u001b[0m \u001b[0mTypeError\u001b[0m\u001b[1;33m\u001b[0m\u001b[1;33m\u001b[0m\u001b[0m\n\u001b[0m\u001b[0;32m     10\u001b[0m \u001b[0mprint\u001b[0m\u001b[1;33m(\u001b[0m\u001b[0mc\u001b[0m\u001b[1;33m)\u001b[0m\u001b[1;33m\u001b[0m\u001b[1;33m\u001b[0m\u001b[0m\n",
      "\u001b[1;31mTypeError\u001b[0m: "
     ]
    }
   ],
   "source": [
    "# try - except\n",
    "a = 10\n",
    "b = 0\n",
    "try:\n",
    "    # Operation\n",
    "    c = a / b\n",
    "    A = sin(a)\n",
    "except Exception as e : # (ZeroDivisionError,NameError)\n",
    "    \n",
    "print(c)"
   ]
  },
  {
   "cell_type": "code",
   "execution_count": 7,
   "metadata": {},
   "outputs": [
    {
     "name": "stdout",
     "output_type": "stream",
     "text": [
      "Operation Successful !!\n",
      "5.0\n"
     ]
    }
   ],
   "source": [
    "# try - except - else\n",
    "a = 10\n",
    "b = 0\n",
    "# Operation\n",
    "c = None\n",
    "try:\n",
    "    c = a / 2\n",
    "except :\n",
    "    print(\"Got an Error !!\")\n",
    "else: # If Successfully Performed \n",
    "    print(\"Operation Successful !!\")\n",
    "# Result\n",
    "print(c)"
   ]
  },
  {
   "cell_type": "code",
   "execution_count": 7,
   "metadata": {},
   "outputs": [
    {
     "name": "stdout",
     "output_type": "stream",
     "text": [
      "Process Started\n",
      "Operation is Successful\n",
      "5.0\n",
      "Stop\n"
     ]
    }
   ],
   "source": [
    "# try - except - else - finally\n",
    "# finally generally always run !!\n",
    "print(\"Process Started\")\n",
    "a = 10\n",
    "b = 2\n",
    "c = None\n",
    "# operation\n",
    "try:   \n",
    "    c = a/b\n",
    "except Exception as e:\n",
    "    print(\"Got an Error :\") # We can't do try - except again in except block\n",
    "    print(e)\n",
    "else:\n",
    "    print(\"Operation is Successful\")\n",
    "    print(c)\n",
    "finally:\n",
    "    print(\"Stop\")"
   ]
  },
  {
   "cell_type": "code",
   "execution_count": null,
   "metadata": {},
   "outputs": [],
   "source": [
    "# finally block is always executed after leaving the try statement.\n",
    "# Incase if some exception was not handled by except block, it is re-raised after execution of finally block.\n",
    "# Three Combinations for Finally -->\n",
    "# 1. try - finally\n",
    "# 2. try - except - finally\n",
    "# 3. try - except - else - finally"
   ]
  },
  {
   "cell_type": "code",
   "execution_count": null,
   "metadata": {},
   "outputs": [],
   "source": [
    "'''\n",
    "Standard Exception -->\n",
    "1. Exception\n",
    "2. Value Error --> Wrong Value\n",
    "3. Attribute Error --> Wrong method\n",
    "4. EOFError --> Ctrl + D abort run operation\n",
    "5. Import Error --> Importing goes wrong\n",
    "6. StopIteration --> No Value Available on Iterator\n",
    "7. Arithmetic Error \n",
    "8. Keyboard Interrupt --> Interrupting User's Keyboard Input\n",
    "9. IndexError --> Wrong Index\n",
    "10. KeyError --> Wrong Key in Dictionary\n",
    "11. NameError --> Not initialized Variable\n",
    "12. Unbound Local Error --> Local Scope using global variable\n",
    "13. I/O Error (Input/Output) --> print() or input() fails\n",
    "14. TypeError --> Value Type Wrong\n",
    "'''"
   ]
  },
  {
   "cell_type": "code",
   "execution_count": 14,
   "metadata": {},
   "outputs": [
    {
     "ename": "ValueError",
     "evalue": "invalid literal for int() with base 10: '34 6'",
     "output_type": "error",
     "traceback": [
      "\u001b[1;31m---------------------------------------------------------------------------\u001b[0m",
      "\u001b[1;31mValueError\u001b[0m                                Traceback (most recent call last)",
      "\u001b[1;32mC:\\Users\\MR973D~1.SKA\\AppData\\Local\\Temp/ipykernel_7244/3763678.py\u001b[0m in \u001b[0;36m<module>\u001b[1;34m\u001b[0m\n\u001b[0;32m      1\u001b[0m \u001b[1;31m# Value Error\u001b[0m\u001b[1;33m\u001b[0m\u001b[1;33m\u001b[0m\u001b[0m\n\u001b[1;32m----> 2\u001b[1;33m \u001b[0mN\u001b[0m \u001b[1;33m=\u001b[0m \u001b[0mint\u001b[0m\u001b[1;33m(\u001b[0m\u001b[1;34m'34 6'\u001b[0m\u001b[1;33m)\u001b[0m\u001b[1;33m\u001b[0m\u001b[1;33m\u001b[0m\u001b[0m\n\u001b[0m\u001b[0;32m      3\u001b[0m \u001b[0mprint\u001b[0m\u001b[1;33m(\u001b[0m\u001b[0mN\u001b[0m\u001b[1;33m,\u001b[0m\u001b[0mtype\u001b[0m\u001b[1;33m(\u001b[0m\u001b[0mN\u001b[0m\u001b[1;33m)\u001b[0m\u001b[1;33m)\u001b[0m\u001b[1;33m\u001b[0m\u001b[1;33m\u001b[0m\u001b[0m\n",
      "\u001b[1;31mValueError\u001b[0m: invalid literal for int() with base 10: '34 6'"
     ]
    }
   ],
   "source": [
    "# Value Error \n",
    "N = int('34 6')\n",
    "print(N,type(N))"
   ]
  },
  {
   "cell_type": "code",
   "execution_count": 19,
   "metadata": {},
   "outputs": [
    {
     "data": {
      "text/plain": [
       "1"
      ]
     },
     "execution_count": 19,
     "metadata": {},
     "output_type": "execute_result"
    }
   ],
   "source": [
    "# Stop Iteration\n",
    "ls = map(int,[1,2,3])\n",
    "next(ls)"
   ]
  },
  {
   "cell_type": "code",
   "execution_count": 20,
   "metadata": {},
   "outputs": [
    {
     "data": {
      "text/plain": [
       "2"
      ]
     },
     "execution_count": 20,
     "metadata": {},
     "output_type": "execute_result"
    }
   ],
   "source": [
    "next(ls)"
   ]
  },
  {
   "cell_type": "code",
   "execution_count": 21,
   "metadata": {},
   "outputs": [
    {
     "data": {
      "text/plain": [
       "3"
      ]
     },
     "execution_count": 21,
     "metadata": {},
     "output_type": "execute_result"
    }
   ],
   "source": [
    "next(ls)"
   ]
  },
  {
   "cell_type": "markdown",
   "metadata": {},
   "source": []
  },
  {
   "cell_type": "code",
   "execution_count": 22,
   "metadata": {},
   "outputs": [
    {
     "ename": "StopIteration",
     "evalue": "",
     "output_type": "error",
     "traceback": [
      "\u001b[1;31m---------------------------------------------------------------------------\u001b[0m",
      "\u001b[1;31mStopIteration\u001b[0m                             Traceback (most recent call last)",
      "\u001b[1;32mC:\\Users\\MR973D~1.SKA\\AppData\\Local\\Temp/ipykernel_7244/3387395489.py\u001b[0m in \u001b[0;36m<module>\u001b[1;34m\u001b[0m\n\u001b[1;32m----> 1\u001b[1;33m \u001b[0mnext\u001b[0m\u001b[1;33m(\u001b[0m\u001b[0mls\u001b[0m\u001b[1;33m)\u001b[0m\u001b[1;33m\u001b[0m\u001b[1;33m\u001b[0m\u001b[0m\n\u001b[0m",
      "\u001b[1;31mStopIteration\u001b[0m: "
     ]
    }
   ],
   "source": [
    "next(ls)"
   ]
  },
  {
   "cell_type": "code",
   "execution_count": 4,
   "metadata": {},
   "outputs": [
    {
     "name": "stdout",
     "output_type": "stream",
     "text": [
      "Enter the integer number invalid literal for int() with base 10: 's'\n",
      "Enter the integer number invalid literal for int() with base 10: 'df'\n",
      "2 <class 'int'>\n"
     ]
    }
   ],
   "source": [
    "while True :\n",
    "    try:\n",
    "        num = int(input('Enter the number : '))\n",
    "        print(num,type(num))\n",
    "    except Exception as e:\n",
    "        print('Enter the integer number',e)\n",
    "    else :\n",
    "        break"
   ]
  },
  {
   "cell_type": "code",
   "execution_count": 7,
   "metadata": {},
   "outputs": [
    {
     "name": "stdout",
     "output_type": "stream",
     "text": [
      "inner Exception handled\n",
      "next command\n",
      "no Exception\n"
     ]
    }
   ],
   "source": [
    "try:\n",
    "    try:\n",
    "        raise TypeError\n",
    "    except Exception:\n",
    "        print(\"inner Exception handled\")\n",
    "    print(\"next command\")\n",
    "except TypeError:\n",
    "    print(\"outer Exception handled\")\n",
    "else :\n",
    "    print(\"no Exception\")"
   ]
  },
  {
   "cell_type": "code",
   "execution_count": 1,
   "metadata": {},
   "outputs": [
    {
     "name": "stdout",
     "output_type": "stream",
     "text": [
      "300\n",
      "0\n",
      "0\n",
      "10\n"
     ]
    }
   ],
   "source": [
    "def fun():\n",
    "    def fun1():\n",
    "        a = 4 # local\n",
    "    def fun2():\n",
    "        nonlocal a\n",
    "        a = 0\n",
    "    def fun3():\n",
    "        global a\n",
    "        a = 10\n",
    "    a = 300  # nonlocal \n",
    "    fun1()\n",
    "    print(a)\n",
    "    fun2()\n",
    "    print(a)\n",
    "    fun3()\n",
    "    print(a)\n",
    "a = 100  # global \n",
    "fun()\n",
    "print(a)"
   ]
  },
  {
   "cell_type": "code",
   "execution_count": 8,
   "metadata": {},
   "outputs": [
    {
     "name": "stdout",
     "output_type": "stream",
     "text": [
      "5.0\n"
     ]
    }
   ],
   "source": [
    "import math\n",
    "out = math.fabs(-5)\n",
    "print(out)"
   ]
  }
 ],
 "metadata": {
  "interpreter": {
   "hash": "a082cc1209534c25194fbb1fb19f1f5bef9692dda325f567427daa4fe60c133d"
  },
  "kernelspec": {
   "display_name": "Python 3.10.1 64-bit",
   "language": "python",
   "name": "python3"
  },
  "language_info": {
   "codemirror_mode": {
    "name": "ipython",
    "version": 3
   },
   "file_extension": ".py",
   "mimetype": "text/x-python",
   "name": "python",
   "nbconvert_exporter": "python",
   "pygments_lexer": "ipython3",
   "version": "3.10.1"
  },
  "orig_nbformat": 4
 },
 "nbformat": 4,
 "nbformat_minor": 2
}
