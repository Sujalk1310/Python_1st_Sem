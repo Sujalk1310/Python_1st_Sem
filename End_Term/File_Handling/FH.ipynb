{
 "cells": [
  {
   "cell_type": "code",
   "execution_count": 2,
   "metadata": {},
   "outputs": [
    {
     "name": "stdout",
     "output_type": "stream",
     "text": [
      "Hello#World#!!#\n",
      "\n",
      "This#is#Python#File#Handling.#\n",
      "\n",
      "Test#File#No#1#\n",
      "\n",
      "\n",
      "\n"
     ]
    }
   ],
   "source": [
    "path = r'Test.txt'\n",
    "f = open(path,'r')\n",
    "R = 1\n",
    "while R :\n",
    "    R = f.readline().split()\n",
    "    for i in R :    \n",
    "        print(i,end=\"#\")\n",
    "    print(\"\\n\")\n",
    "f.close()"
   ]
  },
  {
   "cell_type": "code",
   "execution_count": 2,
   "metadata": {},
   "outputs": [
    {
     "name": "stdout",
     "output_type": "stream",
     "text": [
      "No. of Vowels : 14\n",
      "No. of Consonants : 30\n",
      "No. of Uppercase : 9\n",
      "No. of Lowercase : 35\n"
     ]
    }
   ],
   "source": [
    "path = r'Test.txt'\n",
    "f = open(path,'r')\n",
    "out = f.read()\n",
    "V = 0\n",
    "C = 0\n",
    "U = 0\n",
    "L = 0\n",
    "for i in range (0,len(out)) :\n",
    "    if out[i] in 'aeiou' :\n",
    "        V += 1\n",
    "    elif out[i].isalpha() :\n",
    "        C += 1\n",
    "    if out[i].isupper() :\n",
    "        U += 1\n",
    "    elif out[i].islower() :\n",
    "        L += 1\n",
    "print(f\"No. of Vowels : {V}\")\n",
    "print(f\"No. of Consonants : {C}\")\n",
    "print(f\"No. of Uppercase : {U}\")\n",
    "print(f\"No. of Lowercase : {L}\")\n",
    "f.close()"
   ]
  },
  {
   "cell_type": "code",
   "execution_count": 3,
   "metadata": {},
   "outputs": [
    {
     "name": "stdout",
     "output_type": "stream",
     "text": [
      "['', '']\n",
      "['\\n', '\\n'] []\n"
     ]
    }
   ],
   "source": [
    "path1 = r'Test1.txt'\n",
    "path2 = r'Test2.txt'\n",
    "f1 = open(path1,'r+')\n",
    "f2 = open(path2,'w')\n",
    "L = list(f1.read().split('\\n'))\n",
    "print(L)\n",
    "L1 = []\n",
    "L2 = []\n",
    "for i in range (0,len(L)) :\n",
    "    if 'a' not in L[i] :\n",
    "        L1.append(f'{L[i]}\\n')\n",
    "    else :\n",
    "        L2.append(f'{L[i]}\\n')\n",
    "print(L1,L2)\n",
    "f1.writelines(L1)\n",
    "f2.writelines(L2)\n",
    "f1.close()\n",
    "f2.close()"
   ]
  },
  {
   "cell_type": "code",
   "execution_count": 4,
   "metadata": {},
   "outputs": [],
   "source": [
    "import pickle\n",
    "path1 = r'Test1.dat'\n",
    "f1 = open(path1,'ab')\n",
    "L = [1,\"Harsh\",23]\n",
    "pickle.dump(L,f1)\n",
    "f1.close()"
   ]
  },
  {
   "cell_type": "code",
   "execution_count": 5,
   "metadata": {},
   "outputs": [],
   "source": [
    "import pickle\n",
    "path1 = r'Test1.dat'\n",
    "f1 = open(path1,'rb')\n",
    "out = 1\n",
    "L = []\n",
    "n = int(input(\"Enter Roll No. : \"))\n",
    "while out :\n",
    "    try :\n",
    "        f = 0    \n",
    "        out = pickle.load(f1)\n",
    "        if out[0] == n :\n",
    "            f = 1\n",
    "            m = eval(input(\"Enter New Marks : \"))\n",
    "            L.append[n,out[1],m]\n",
    "        else :\n",
    "            L.append[n,out[1],out[2]]\n",
    "    except :\n",
    "        out = 0\n",
    "for i in L :\n",
    "    pickle.dump(i,f1)\n",
    "\n"
   ]
  }
 ],
 "metadata": {
  "interpreter": {
   "hash": "e804a945266373a9d299ea6a2f730de712608685b9801913dd2da48173c0a497"
  },
  "kernelspec": {
   "display_name": "Python 3.10.1 64-bit",
   "language": "python",
   "name": "python3"
  },
  "language_info": {
   "codemirror_mode": {
    "name": "ipython",
    "version": 3
   },
   "file_extension": ".py",
   "mimetype": "text/x-python",
   "name": "python",
   "nbconvert_exporter": "python",
   "pygments_lexer": "ipython3",
   "version": "3.10.1"
  },
  "orig_nbformat": 4
 },
 "nbformat": 4,
 "nbformat_minor": 2
}
