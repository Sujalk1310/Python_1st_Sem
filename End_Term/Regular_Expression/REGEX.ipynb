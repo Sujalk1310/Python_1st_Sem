{
 "cells": [
  {
   "cell_type": "code",
   "execution_count": null,
   "metadata": {},
   "outputs": [],
   "source": [
    "# Reguar expression is a sequence of characters that helps in advanced search in programming language.\n",
    "# Features of REGEX -->\n",
    "# Hundred of code could be reduce to one line elegant regular expression\n",
    "# Used to construct compilers, interpreters and text editors\n",
    "# Used to search and match text patterns\n",
    "# Used to validate text data formats especially input data\n",
    "# the popular programming language have regex capabilities Python, Perl, Javascript, Ruby, Tcl, C++, C# etc...."
   ]
  },
  {
   "cell_type": "code",
   "execution_count": null,
   "metadata": {},
   "outputs": [],
   "source": [
    "# import re\n",
    "# Methods -->\n",
    "'''\n",
    "1. Search --> search() and match()\n",
    "2. Modify --> sub()\n",
    "3. Break --> split()\n",
    "4. Find --> findall()\n",
    "\n",
    "Alternative : |\n",
    "Grouping : ()\n",
    "Quantification : ?*+{m,n}\n",
    "Anchors : ^$\n",
    "Meta-Characters : .[][-][^] \n",
    "Character classes : \n",
    "'''"
   ]
  },
  {
   "cell_type": "code",
   "execution_count": 1,
   "metadata": {},
   "outputs": [
    {
     "name": "stdout",
     "output_type": "stream",
     "text": [
      "Not Found\n"
     ]
    }
   ],
   "source": [
    "st = \"Python is the best language\"\n",
    "out = \"python\" in st # Capital is optional, it will give not found !!\n",
    "if out :\n",
    "    print(\"Match Found\")\n",
    "else :\n",
    "    print(\"Not Found\")"
   ]
  },
  {
   "cell_type": "code",
   "execution_count": 8,
   "metadata": {},
   "outputs": [
    {
     "name": "stdout",
     "output_type": "stream",
     "text": [
      "Match Found\n",
      "python\n",
      "<re.Match object; span=(0, 6), match='python'>\n"
     ]
    }
   ],
   "source": [
    "import re\n",
    "st = \"python is the best language\"\n",
    "out = re.search(\"P|python\",st) # Alternating for both possibilities else it will work same as in membership operator.\n",
    "if out:\n",
    "    print(\"Match Found\")\n",
    "    print(out.group())\n",
    "    print(out)\n",
    "else :\n",
    "    print(\"Not Found\")"
   ]
  },
  {
   "cell_type": "code",
   "execution_count": 12,
   "metadata": {},
   "outputs": [
    {
     "name": "stdout",
     "output_type": "stream",
     "text": [
      "['python', 'Python']\n"
     ]
    }
   ],
   "source": [
    "st = \"python is the best language is Python\"\n",
    "out = re.findall(\"Python|python\",st)\n",
    "print(out)"
   ]
  },
  {
   "cell_type": "code",
   "execution_count": 20,
   "metadata": {},
   "outputs": [
    {
     "name": "stdout",
     "output_type": "stream",
     "text": [
      "Python is the best\n",
      "('Pyth', 'on', ' is the ', 'best')\n"
     ]
    }
   ],
   "source": [
    "# Grouping () create groups / Quantification => . --> single character / .? --> single (one) character is or not / .+ --> 1 or more than \n",
    "st = \"Python is the best language\" # .* --> Rest of the line / * --> 0 or more than (Preceeding) character\n",
    "out = re.search(\"(.*)(on)(.*)(best)\",st) # {2,3} --> 2 or 3 times {2,} --> 2 or more than 2 (freq)\n",
    "print(out.group()) # group return match item / groups return tuple\n",
    "print(out.groups())"
   ]
  },
  {
   "cell_type": "code",
   "execution_count": null,
   "metadata": {},
   "outputs": [],
   "source": [
    "# Anchors \n",
    "# Match the starting position within the string\n",
    "\"\"\"\n",
    "\"^Obje\" == \"Object\" or \"Objection\"\n",
    "\"gram$\" == \"miligram\" or \"kilogram\"\n",
    "\"\"\""
   ]
  },
  {
   "cell_type": "code",
   "execution_count": 22,
   "metadata": {},
   "outputs": [
    {
     "data": {
      "text/plain": [
       "'\\n\"bat. == \"bata\" or \"bats\"\\nb[xyz] == \"bx\" or \"by\" or \"bz\"\\n\\n'"
      ]
     },
     "execution_count": 22,
     "metadata": {},
     "output_type": "execute_result"
    }
   ],
   "source": [
    "# Meta-Characters\n",
    "'''\n",
    "\"bat.\" == \"bata\" or \"bats\"\n",
    "\"b[xyz]\" == \"bx\" or \"by\" or \"bz\" // \"[aeiou]\" == any vowel \"[123456789]\" == any digit\n",
    "\"[a-c]\" == \"a\" or \"b\" or \"c\"\n",
    "\"[a-zA-Z]\" == lower or upper case\n",
    "\"[^aeiou]\" == excluding these\n",
    "'''"
   ]
  },
  {
   "cell_type": "code",
   "execution_count": 6,
   "metadata": {},
   "outputs": [
    {
     "name": "stdout",
     "output_type": "stream",
     "text": [
      "['kulshrestha.sujal13@gmail.com', 'sanjayk1811@gmail.com']\n"
     ]
    }
   ],
   "source": [
    "import re\n",
    "st = \"My email kulshrestha.sujal13@gmail.com and my fathers email is sanjayk1811@gmail.com\"\n",
    "out = re.findall(\"[a-z0-9\\.]+[@][a-z0-9]+[\\.][a-z0-9]{3}\",st)\n",
    "print(out)"
   ]
  },
  {
   "cell_type": "code",
   "execution_count": 19,
   "metadata": {},
   "outputs": [
    {
     "name": "stdout",
     "output_type": "stream",
     "text": [
      "['sujal.kulshrestha_cs.aiml21@gla.ac.in']\n",
      "!! VALID EMAIL !!\n"
     ]
    }
   ],
   "source": [
    "import re\n",
    "Email = input(\"Enter your email : \")\n",
    "out = re.findall(\"[a-z\\.]+_[a-z\\.]+[0-9]{2}@[a-z\\.]{3,9}\",Email)\n",
    "print(out)\n",
    "if out :\n",
    "    print(\"!! VALID EMAIL !!\")\n",
    "else :\n",
    "    print(\"!! INVALID EMAIL !!\")"
   ]
  },
  {
   "cell_type": "code",
   "execution_count": 8,
   "metadata": {},
   "outputs": [
    {
     "name": "stdout",
     "output_type": "stream",
     "text": [
      "['playing']\n"
     ]
    }
   ],
   "source": [
    "import re\n",
    "st=\"playing football\"\n",
    "pt = r\"\\b[a-z]*ing\\b\"\n",
    "out = re.findall(pt,st)\n",
    "print(out)"
   ]
  }
 ],
 "metadata": {
  "interpreter": {
   "hash": "a082cc1209534c25194fbb1fb19f1f5bef9692dda325f567427daa4fe60c133d"
  },
  "kernelspec": {
   "display_name": "Python 3.10.1 64-bit",
   "language": "python",
   "name": "python3"
  },
  "language_info": {
   "codemirror_mode": {
    "name": "ipython",
    "version": 3
   },
   "file_extension": ".py",
   "mimetype": "text/x-python",
   "name": "python",
   "nbconvert_exporter": "python",
   "pygments_lexer": "ipython3",
   "version": "3.10.1"
  },
  "orig_nbformat": 4
 },
 "nbformat": 4,
 "nbformat_minor": 2
}
