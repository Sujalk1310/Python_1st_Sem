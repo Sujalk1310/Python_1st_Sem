{
 "cells": [
  {
   "cell_type": "code",
   "execution_count": 5,
   "metadata": {},
   "outputs": [
    {
     "name": "stdout",
     "output_type": "stream",
     "text": [
      "[[ 1  3  6]\n",
      " [ 8 89 30]] <class 'numpy.ndarray'>\n"
     ]
    }
   ],
   "source": [
    "import numpy as np\n",
    "ls = [1, 3, 6, 8, 89, 30]\n",
    "a = np.array(ls)\n",
    "a.shape = 2,3\n",
    "print(a,type(a))\n",
    "# Space Seperated and ndarray data type\n"
   ]
  },
  {
   "cell_type": "code",
   "execution_count": 13,
   "metadata": {},
   "outputs": [
    {
     "name": "stdout",
     "output_type": "stream",
     "text": [
      "[   3    6    8   89 -126]\n"
     ]
    }
   ],
   "source": [
    "import numpy as np\n",
    "ls = [ 3, 6, 8, 89, 130]\n",
    "a = np.array(ls,dtype='int8')\n",
    "print(a)"
   ]
  },
  {
   "cell_type": "code",
   "execution_count": 9,
   "metadata": {},
   "outputs": [
    {
     "name": "stdout",
     "output_type": "stream",
     "text": [
      "[1 2 3 4 5 6 7 8]\n"
     ]
    }
   ],
   "source": [
    "import numpy\n",
    "ls = [1,2,3,4,5,6,7,8]\n",
    "a = numpy.array(ls)\n",
    "print(a)"
   ]
  },
  {
   "cell_type": "code",
   "execution_count": 19,
   "metadata": {},
   "outputs": [
    {
     "name": "stdout",
     "output_type": "stream",
     "text": [
      "[[2 5 7]\n",
      " [6 8 9]]\n",
      "[[3 5]\n",
      " [7 4]\n",
      " [7 0]]\n",
      "[[ 90  30]\n",
      " [137  62]]\n"
     ]
    }
   ],
   "source": [
    "import numpy as np\n",
    "ls1 = ([[2,5,7],[6,8,9]])\n",
    "ls2 = ([[3,5,7],[4,7,0]])\n",
    "arr1 = np.array(ls1)\n",
    "arr2 = np.array(ls2)\n",
    "print(arr1)\n",
    "arr2.shape = 3,2\n",
    "print(arr2)\n",
    "arr_re = np.dot(arr1,arr2) # With array we can easily perform Matrix Operation's (or np.divide(arr1,arr2) or np.multiply(arr1,arr2) or arr1*arr2)\n",
    "print(arr_re)\n"
   ]
  },
  {
   "cell_type": "code",
   "execution_count": 17,
   "metadata": {},
   "outputs": [
    {
     "name": "stdout",
     "output_type": "stream",
     "text": [
      "[2, 5, 7]\n",
      "[6, 8, 9]\n",
      "\n",
      "[3, 5, 7]\n",
      "[4, 7, 0]\n",
      "\n",
      "[5, 10, 14]\n",
      "[10, 15, 9]\n"
     ]
    }
   ],
   "source": [
    "ls1 = ([[2,5,7],[6,8,9]])\n",
    "ls2 = ([[3,5,7],[4,7,0]])\n",
    "for i in ls1:\n",
    "    print(i)\n",
    "print()\n",
    "for i in ls2:\n",
    "    print(i)\n",
    "print()\n",
    "r1 = len(ls1)\n",
    "c1 = len(ls1[0])\n",
    "r2 = len(ls2)\n",
    "c2 = len(ls2[0])\n",
    "res_ls = []\n",
    "if (r1,c1 == r2,c2):\n",
    "    for i in range (r1):\n",
    "        tmp = []\n",
    "        for j in range (c1):\n",
    "            tmp.append(ls1[i][j]+ls2[i][j])\n",
    "        res_ls.append(tmp) \n",
    "else :\n",
    "    print('dimensions not valid')\n",
    "for i in res_ls :\n",
    "    print(i)\n",
    "\n"
   ]
  },
  {
   "cell_type": "code",
   "execution_count": null,
   "metadata": {},
   "outputs": [],
   "source": [
    "ls1 = ([[2,5,7],[6,8,9]])\n",
    "ls2 = ([[3,5,7],[4,7,0]])\n",
    "for i in ls1:\n",
    "    print(i)\n",
    "print()\n",
    "for i in ls2:\n",
    "    print(i)\n",
    "print()\n",
    "r1 = len(ls1)\n",
    "c1 = len(ls1[0])\n",
    "r2 = len(ls2)\n",
    "c2 = len(ls2[0])\n",
    "res_ls = []\n",
    "if (c1 == r2):\n",
    "    for i in range (r1):\n",
    "        tmp = []\n",
    "        sum = 0\n",
    "        for j in range (c1):\n",
    "            for k in range (c2):\n",
    "                sum += ls1[i][j]*ls2[j][k]\n",
    "        res_ls.append(tmp) \n",
    "else :\n",
    "    print('dimensions not valid')\n",
    "for i in res_ls :\n",
    "    print(i)\n",
    "\n"
   ]
  },
  {
   "cell_type": "code",
   "execution_count": 14,
   "metadata": {},
   "outputs": [
    {
     "name": "stdout",
     "output_type": "stream",
     "text": [
      "[6. 5. 4. 3. 2.]\n"
     ]
    }
   ],
   "source": [
    "import numpy as np\n",
    "n = input().split()\n",
    "n.reverse()\n",
    "arr = np.array(n,float)\n",
    "print(arr)"
   ]
  },
  {
   "cell_type": "code",
   "execution_count": 2,
   "metadata": {},
   "outputs": [
    {
     "ename": "ValueError",
     "evalue": "cannot reshape array of size 0 into shape (3,3)",
     "output_type": "error",
     "traceback": [
      "\u001b[1;31m---------------------------------------------------------------------------\u001b[0m",
      "\u001b[1;31mValueError\u001b[0m                                Traceback (most recent call last)",
      "\u001b[1;32mC:\\Users\\MR973D~1.SKA\\AppData\\Local\\Temp/ipykernel_12844/1523785310.py\u001b[0m in \u001b[0;36m<module>\u001b[1;34m\u001b[0m\n\u001b[0;32m      3\u001b[0m \u001b[0mn\u001b[0m \u001b[1;33m=\u001b[0m \u001b[0minput\u001b[0m\u001b[1;33m(\u001b[0m\u001b[1;33m)\u001b[0m\u001b[1;33m.\u001b[0m\u001b[0msplit\u001b[0m\u001b[1;33m(\u001b[0m\u001b[1;33m)\u001b[0m\u001b[1;33m\u001b[0m\u001b[1;33m\u001b[0m\u001b[0m\n\u001b[0;32m      4\u001b[0m \u001b[0marr\u001b[0m \u001b[1;33m=\u001b[0m \u001b[0mnp\u001b[0m\u001b[1;33m.\u001b[0m\u001b[0marray\u001b[0m\u001b[1;33m(\u001b[0m\u001b[0mls\u001b[0m\u001b[1;33m,\u001b[0m\u001b[0mint\u001b[0m\u001b[1;33m)\u001b[0m\u001b[1;33m\u001b[0m\u001b[1;33m\u001b[0m\u001b[0m\n\u001b[1;32m----> 5\u001b[1;33m \u001b[0marr\u001b[0m\u001b[1;33m.\u001b[0m\u001b[0mshape\u001b[0m \u001b[1;33m=\u001b[0m \u001b[1;36m3\u001b[0m\u001b[1;33m,\u001b[0m\u001b[1;36m3\u001b[0m\u001b[1;33m\u001b[0m\u001b[1;33m\u001b[0m\u001b[0m\n\u001b[0m\u001b[0;32m      6\u001b[0m \u001b[0mprint\u001b[0m\u001b[1;33m(\u001b[0m\u001b[0marr\u001b[0m\u001b[1;33m)\u001b[0m\u001b[1;33m\u001b[0m\u001b[1;33m\u001b[0m\u001b[0m\n",
      "\u001b[1;31mValueError\u001b[0m: cannot reshape array of size 0 into shape (3,3)"
     ]
    }
   ],
   "source": [
    "import numpy as np\n",
    "ls = []\n",
    "n = input().split()\n",
    "count = (len(n)//3)\n",
    "for i in range (0,len(n),count):\n",
    "    ls1 = n[i:i+count]\n",
    "    ls.append(ls1)\n",
    "arr = np.array(ls,int)\n",
    "arr.shape\n",
    "print(arr)"
   ]
  },
  {
   "cell_type": "code",
   "execution_count": 1,
   "metadata": {},
   "outputs": [
    {
     "name": "stdout",
     "output_type": "stream",
     "text": [
      "[[1. 0. 0.]\n",
      " [0. 1. 0.]\n",
      " [0. 0. 1.]]\n"
     ]
    }
   ],
   "source": [
    "import numpy as np\n",
    "n = input().split()\n",
    "r = int(n[0])\n",
    "c = int(n[-1])\n",
    "out = np.eye(r,c) # Identitcal Matrix eye method\n",
    "print(out)"
   ]
  },
  {
   "cell_type": "code",
   "execution_count": 16,
   "metadata": {},
   "outputs": [
    {
     "name": "stdout",
     "output_type": "stream",
     "text": [
      "[[2 4 6 8]]\n",
      "[[0 0 0 0]]\n",
      "[[ 1  4  9 16]]\n",
      "[[1 1 1 1]]\n",
      "[[0 0 0 0]]\n",
      "[[  1   4  27 256]]\n"
     ]
    }
   ],
   "source": [
    "import numpy as np\n",
    "r,c = map(eval,input().split())\n",
    "ls1 = list(map(eval,input().split()))\n",
    "ls2 = list(map(eval,input().split()))\n",
    "a = np.array(ls1)\n",
    "b = np.array(ls2)\n",
    "arr = a+b\n",
    "arr.shape = 1,4\n",
    "print(arr)\n",
    "arr = a-b\n",
    "arr.shape = 1,4\n",
    "print(arr)\n",
    "arr = a*b\n",
    "arr.shape = 1,4\n",
    "print(arr)\n",
    "arr = a//b\n",
    "arr.shape = 1,4\n",
    "print(arr)\n",
    "arr = a%b\n",
    "arr.shape = 1,4\n",
    "print(arr)\n",
    "arr = a**b\n",
    "arr.shape = 1,4\n",
    "print(arr)"
   ]
  },
  {
   "cell_type": "code",
   "execution_count": 5,
   "metadata": {},
   "outputs": [
    {
     "name": "stdout",
     "output_type": "stream",
     "text": [
      "[[1 3]\n",
      " [2 4]]\n",
      "[1 2 3 4]\n"
     ]
    }
   ],
   "source": [
    "import numpy as np\n",
    "r,c = map(eval,input().split())\n",
    "ls = []\n",
    "for i in range (0,r):\n",
    "    ls.append(list(map(eval,input().split())))\n",
    "arr = np.array(ls)\n",
    "arr.shape = r,c\n",
    "t = np.transpose(arr)\n",
    "print(t)\n",
    "f = arr.flatten()\n",
    "print(f)"
   ]
  },
  {
   "cell_type": "code",
   "execution_count": null,
   "metadata": {},
   "outputs": [],
   "source": [
    "# reshape():\n",
    "import numpy as np\n",
    "arr = np.array([1,2,3,4,5,6])\n",
    "arr1 = arr.reshape(2,3) # .shape is a method and .reshape() is a function arr.shape = r,c & arr.reshape(r,c)\n",
    "print(arr1)"
   ]
  },
  {
   "cell_type": "code",
   "execution_count": 15,
   "metadata": {},
   "outputs": [
    {
     "name": "stdout",
     "output_type": "stream",
     "text": [
      "[1 2 3 4 0 1 2 3 4]\n"
     ]
    }
   ],
   "source": [
    "# arrange():\n",
    "import numpy as np\n",
    "arr = np.arange(1,10) # accept float as step size !!\n",
    "ls = arr % 5 # it is easy to perform mathematical operation in ndarray \n",
    "print(ls)"
   ]
  },
  {
   "cell_type": "code",
   "execution_count": 17,
   "metadata": {},
   "outputs": [
    {
     "name": "stdout",
     "output_type": "stream",
     "text": [
      "[-0.54402111 -0.99999021 -0.53657292  0.42016704  0.99060736  0.65028784\n",
      " -0.28790332 -0.96139749 -0.75098725  0.14987721]\n"
     ]
    }
   ],
   "source": [
    "# sin()\n",
    "arr = np.arange(10,20)\n",
    "out = np.sin(arr)\n",
    "print(out)"
   ]
  },
  {
   "cell_type": "code",
   "execution_count": 24,
   "metadata": {},
   "outputs": [
    {
     "name": "stdout",
     "output_type": "stream",
     "text": [
      "2\n"
     ]
    }
   ],
   "source": [
    "num = np.random.randint(1,3)\n",
    "print(num)"
   ]
  },
  {
   "cell_type": "code",
   "execution_count": 25,
   "metadata": {},
   "outputs": [
    {
     "name": "stdout",
     "output_type": "stream",
     "text": [
      "90\n"
     ]
    }
   ],
   "source": [
    "arr = np.array([3,65,6,90])\n",
    "k = arr.max()\n",
    "print(k)"
   ]
  },
  {
   "cell_type": "code",
   "execution_count": 18,
   "metadata": {},
   "outputs": [
    {
     "name": "stdout",
     "output_type": "stream",
     "text": [
      "[[ 1  2  3]\n",
      " [ 4  5  6]\n",
      " [ 7  8  9]\n",
      " [10 11 12]]\n",
      "[22 26 30]\n"
     ]
    }
   ],
   "source": [
    "import numpy as np\n",
    "arr = np.arange(1,13).reshape(4,3)\n",
    "out = np.sum(arr,0) # axis = 1  (0 is row wise and 1 id column wise)\n",
    "print(arr)\n",
    "print(out)"
   ]
  },
  {
   "cell_type": "code",
   "execution_count": null,
   "metadata": {},
   "outputs": [],
   "source": []
  }
 ],
 "metadata": {
  "interpreter": {
   "hash": "e804a945266373a9d299ea6a2f730de712608685b9801913dd2da48173c0a497"
  },
  "kernelspec": {
   "display_name": "Python 3.10.1 64-bit",
   "language": "python",
   "name": "python3"
  },
  "language_info": {
   "codemirror_mode": {
    "name": "ipython",
    "version": 3
   },
   "file_extension": ".py",
   "mimetype": "text/x-python",
   "name": "python",
   "nbconvert_exporter": "python",
   "pygments_lexer": "ipython3",
   "version": "3.10.1"
  },
  "orig_nbformat": 4
 },
 "nbformat": 4,
 "nbformat_minor": 2
}
