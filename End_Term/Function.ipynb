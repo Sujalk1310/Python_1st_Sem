{
 "cells": [
  {
   "cell_type": "code",
   "execution_count": 20,
   "metadata": {},
   "outputs": [],
   "source": [
    "# Function : Block of code use to solve a specific problem.\n",
    "\n",
    "#syntax :\n",
    "\n",
    "#def function_name(arg):\n",
    "    # function body"
   ]
  },
  {
   "cell_type": "code",
   "execution_count": 1,
   "metadata": {},
   "outputs": [
    {
     "name": "stdout",
     "output_type": "stream",
     "text": [
      "12\n"
     ]
    }
   ],
   "source": [
    "# LCM : Least Common Mutiple\n",
    "num1 = 4\n",
    "num2 = 6\n",
    "\n",
    "#num1 4: 4, 8, 12, 16, 20 ...\n",
    "#num2 6: 6, 12, 18, 24, 30, 36 ...\n",
    "\n",
    "mx = max(num1,num2)\n",
    "while 1 :\n",
    "    if mx % num1 == 0 and mx % num2 == 0:\n",
    "        print (mx)\n",
    "        break\n",
    "    mx += 1"
   ]
  },
  {
   "cell_type": "code",
   "execution_count": 15,
   "metadata": {},
   "outputs": [
    {
     "name": "stdout",
     "output_type": "stream",
     "text": [
      "GLA Online classes\n",
      "Hello !! Sujal !!\n"
     ]
    }
   ],
   "source": [
    "def my_fun():\n",
    "    print(\"GLA Online classes\")\n",
    "def my_fun_with_argv(name):\n",
    "    print(f\"Hello !! {name} !!\")\n",
    "my_fun()\n",
    "my_fun_with_argv(\"Sujal\")"
   ]
  },
  {
   "cell_type": "code",
   "execution_count": 2,
   "metadata": {},
   "outputs": [
    {
     "name": "stdout",
     "output_type": "stream",
     "text": [
      "12\n"
     ]
    }
   ],
   "source": [
    "def lcm(num1,num2):\n",
    "    # LCM : Least Common Mutiple\n",
    "    mx = max(num1,num2)\n",
    "    while 1 :\n",
    "        if mx % num1 == 0 and mx % num2 == 0:\n",
    "            return(mx)\n",
    "            break\n",
    "        mx += 1\n",
    "# Out of Block !!\n",
    "num1 = 4\n",
    "num2 = 6\n",
    "out = lcm(num1,num2)\n",
    "print(out)"
   ]
  },
  {
   "cell_type": "code",
   "execution_count": 3,
   "metadata": {},
   "outputs": [
    {
     "name": "stdout",
     "output_type": "stream",
     "text": [
      "my name is sujal and sec is 123\n"
     ]
    }
   ],
   "source": [
    "def nn(name,sec):\n",
    "    out = (f\"my name is {name} and sec is {sec}\")\n",
    "    return(out)\n",
    "li = [\"sujal\",\"123\"]\n",
    "out = nn(*li) # * for traversing the list and entering data !!\n",
    "print(out)"
   ]
  },
  {
   "cell_type": "code",
   "execution_count": 6,
   "metadata": {},
   "outputs": [
    {
     "name": "stdout",
     "output_type": "stream",
     "text": [
      "6.0\n"
     ]
    }
   ],
   "source": [
    "# Write a function to calculate the GCD and LCM \n",
    "def lcm(num1,num2):\n",
    "    mx = max(num1,num2)\n",
    "    while 1 :\n",
    "        if mx % num1 == 0 and mx % num2 == 0 :\n",
    "            return mx\n",
    "            break\n",
    "        mx += 1\n",
    "def gcd(num1,num2,LCM):\n",
    "    GCD = (abs(num1*num2))/LCM\n",
    "    return  GCD\n",
    "# Main\n",
    "num1 = int(input(\"Enter 1st No. : \"))\n",
    "num2 = int(input(\"Enter 2nd No. : \"))\n",
    "LCM = lcm(num1,num2)\n",
    "out = gcd(num1,num2,LCM)\n",
    "print(out)"
   ]
  },
  {
   "cell_type": "code",
   "execution_count": 42,
   "metadata": {},
   "outputs": [
    {
     "name": "stdout",
     "output_type": "stream",
     "text": [
      "25\n"
     ]
    }
   ],
   "source": [
    "def add(*x,b):\n",
    "    return b+sum(x)\n",
    "x = 2\n",
    "y = 3\n",
    "out = add(1,2,3,4,5,b=10)\n",
    "print(out)"
   ]
  },
  {
   "cell_type": "code",
   "execution_count": 8,
   "metadata": {},
   "outputs": [
    {
     "name": "stdout",
     "output_type": "stream",
     "text": [
      "Area of rectangle = 12\n",
      "Perimeter of rectangle = 14\n"
     ]
    }
   ],
   "source": [
    "def area(l,b):\n",
    "    A = l*b\n",
    "    P = 2*(l+b)\n",
    "    return A,P\n",
    "l = eval(input(\"Enter the length of rectangle : \"))\n",
    "b = eval(input(\"Enter the breadth of rectangle : \"))\n",
    "out = area(l,b)\n",
    "print(\"Area of rectangle =\",out[0])\n",
    "print(\"Perimeter of rectangle =\",out[1])"
   ]
  },
  {
   "cell_type": "code",
   "execution_count": 7,
   "metadata": {},
   "outputs": [
    {
     "name": "stdout",
     "output_type": "stream",
     "text": [
      "Area of Circle = 153.86\n",
      "Perimeter of Circle = 43.96\n"
     ]
    }
   ],
   "source": [
    "def area(r):\n",
    "    A = 3.14*r**2\n",
    "    P = 2*3.14*r\n",
    "    return A,P\n",
    "r = eval(input(\"Enter the length of rectangle : \"))\n",
    "out = area(r)\n",
    "print(\"Area of Circle =\",out[0])\n",
    "print(\"Perimeter of Circle =\",out[1])"
   ]
  },
  {
   "cell_type": "code",
   "execution_count": 11,
   "metadata": {},
   "outputs": [
    {
     "name": "stdout",
     "output_type": "stream",
     "text": [
      "Result = 9\n"
     ]
    }
   ],
   "source": [
    "def Power(a,b):\n",
    "    Pow = 1\n",
    "    for i in range (0,b):\n",
    "        Pow *= a\n",
    "    return Pow\n",
    "a = eval(input(\"Enter the length of rectangle : \"))\n",
    "b = eval(input(\"Enter the breadth of rectangle : \"))\n",
    "out = Power(a,b)\n",
    "print (\"Result =\",out)"
   ]
  },
  {
   "cell_type": "code",
   "execution_count": 16,
   "metadata": {},
   "outputs": [
    {
     "name": "stdout",
     "output_type": "stream",
     "text": [
      "You can vote !!\n"
     ]
    }
   ],
   "source": [
    "def Age(n):\n",
    "    if n >= 18:\n",
    "        out = \"You can vote !!\"\n",
    "    else :\n",
    "        out = \"You cannot vote !!\"\n",
    "    return out\n",
    "n = int(input(\"Enter your Age : \"))\n",
    "out = Age(n)\n",
    "print(out)\n"
   ]
  },
  {
   "cell_type": "code",
   "execution_count": 19,
   "metadata": {},
   "outputs": [
    {
     "name": "stdout",
     "output_type": "stream",
     "text": [
      "Even\n"
     ]
    }
   ],
   "source": [
    "def Even(n):\n",
    "    if n%2 == 0:\n",
    "        out = \"Even\"\n",
    "    else :\n",
    "        out = \"Odd\"\n",
    "    return out\n",
    "out = Even(int(input(\"Enter the no. : \")))\n",
    "print(out)"
   ]
  },
  {
   "cell_type": "code",
   "execution_count": 15,
   "metadata": {},
   "outputs": [
    {
     "name": "stdout",
     "output_type": "stream",
     "text": [
      "Not Prime\n"
     ]
    }
   ],
   "source": [
    "def Prime(n):\n",
    "    if n == 2:\n",
    "            out = \"Prime\"\n",
    "    else :\n",
    "        for i in range (2,n):\n",
    "            if n%i == 0:\n",
    "                out = \"Not Prime\"\n",
    "                break\n",
    "            else :\n",
    "                out = \"Prime\"\n",
    "    return out\n",
    "out = Prime(int(input(\"Enter the no. : \")))\n",
    "print(out)"
   ]
  },
  {
   "cell_type": "code",
   "execution_count": 43,
   "metadata": {},
   "outputs": [
    {
     "data": {
      "text/plain": [
       "{0: 1, 1: 1, 2: 2, 3: 6, 5: 120, 8: 40320}"
      ]
     },
     "execution_count": 43,
     "metadata": {},
     "output_type": "execute_result"
    }
   ],
   "source": [
    "def Fab(n):\n",
    "    num = 0\n",
    "    dic = {0:1}\n",
    "    num1 = 0\n",
    "    num2 = 1\n",
    "    while num != n:\n",
    "        num3 = num1+num2\n",
    "        num1 = num2\n",
    "        num2 = num3\n",
    "        num += 1\n",
    "        sum = 1\n",
    "        for i in range (num3,1,-1):\n",
    "            sum *= i\n",
    "        dic[num3] = sum\n",
    "    return dic\n",
    "Fab(5)"
   ]
  }
 ],
 "metadata": {
  "interpreter": {
   "hash": "cb0c3686fe04eaafaa7ba08a2c95f2d49b3da235373f015869b2209abafd3103"
  },
  "kernelspec": {
   "display_name": "Python 3.9.6 64-bit",
   "name": "python3"
  },
  "language_info": {
   "codemirror_mode": {
    "name": "ipython",
    "version": 3
   },
   "file_extension": ".py",
   "mimetype": "text/x-python",
   "name": "python",
   "nbconvert_exporter": "python",
   "pygments_lexer": "ipython3",
   "version": "3.10.1"
  },
  "orig_nbformat": 4
 },
 "nbformat": 4,
 "nbformat_minor": 2
}
