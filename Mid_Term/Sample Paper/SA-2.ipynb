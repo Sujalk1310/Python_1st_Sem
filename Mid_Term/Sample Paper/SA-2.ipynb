{
 "cells": [
  {
   "cell_type": "code",
   "execution_count": 7,
   "metadata": {},
   "outputs": [
    {
     "name": "stdout",
     "output_type": "stream",
     "text": [
      "YES\n"
     ]
    }
   ],
   "source": [
    "n = list(map(str,input().split()))\n",
    "f = -1\n",
    "for i in range (0,len(n)):\n",
    "    if n[i].isdigit() :\n",
    "        f = 1\n",
    "    else :\n",
    "        f = 0\n",
    "        break\n",
    "if f == 1:\n",
    "    print(\"YES\")\n",
    "elif f == 0 :\n",
    "    print(\"NO\")\n",
    "else :\n",
    "    print(\"EMPTY\")"
   ]
  },
  {
   "cell_type": "code",
   "execution_count": 1,
   "metadata": {},
   "outputs": [
    {
     "name": "stdout",
     "output_type": "stream",
     "text": [
      "1 sujal\n",
      "2 harsh\n",
      "3 arihant\n",
      "4 rishabh\n"
     ]
    }
   ],
   "source": [
    "l1 = [1,2,3,4]\n",
    "l2 = [\"sujal\",\"harsh\",\"arihant\",\"rishabh\"]\n",
    "for i,j in zip(l1,l2):\n",
    "    print(i,j)"
   ]
  },
  {
   "cell_type": "code",
   "execution_count": 29,
   "metadata": {},
   "outputs": [],
   "source": [
    "l = [1,2,3,4,5,6]\n",
    "for i in l :\n",
    "    f = 1\n",
    "    if i <= 2:\n",
    "        l.append(i)\n",
    "    else :\n",
    "        for j in range (2,i) :\n",
    "            if i%j == 0:\n",
    "                f = 0\n",
    "        if f == 0:\n",
    "            l.remove(i)\n",
    "print(l)"
   ]
  }
 ],
 "metadata": {
  "interpreter": {
   "hash": "cb0c3686fe04eaafaa7ba08a2c95f2d49b3da235373f015869b2209abafd3103"
  },
  "kernelspec": {
   "display_name": "Python 3.9.6 64-bit",
   "language": "python",
   "name": "python3"
  },
  "language_info": {
   "codemirror_mode": {
    "name": "ipython",
    "version": 3
   },
   "file_extension": ".py",
   "mimetype": "text/x-python",
   "name": "python",
   "nbconvert_exporter": "python",
   "pygments_lexer": "ipython3",
   "version": "3.9.6"
  },
  "orig_nbformat": 4
 },
 "nbformat": 4,
 "nbformat_minor": 2
}
