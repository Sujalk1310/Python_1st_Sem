{
 "cells": [
  {
   "cell_type": "code",
   "execution_count": 12,
   "metadata": {},
   "outputs": [
    {
     "name": "stdout",
     "output_type": "stream",
     "text": [
      "2002,2009,2016,2023,2037,2044,2051,2058,2072,2079,2086,2093,2107,2114,2121,2128,2142,2149,2156,2163,2177,2184,2191,2198,2212,2219,2226,2233,2247,2254,2261,2268,2282,2289,2296,2303,2317,2324,2331,2338,2352,2359,2366,2373,2387,2394,2401,2408,2422,2429,2436,2443,2457,2464,2471,2478,2492,2499,2506,2513,2527,2534,2541,2548,2562,2569,2576,2583,2597,2604,2611,2618,2632,2639,2646,2653,2667,2674,2681,2688,2702,2709,2716,2723,2737,2744,2751,2758,2772,2779,2786,2793,2807,2814,2821,2828,2842,2849,2856,2863,2877,2884,2891,2898,2912,2919,2926,2933,2947,2954,2961,2968,2982,2989,2996,3003,3017,3024,3031,3038,3052,3059,3066,3073,3087,3094,3101,3108,3122,3129,3136,3143,3157,3164,3171,3178,3192,3199"
     ]
    }
   ],
   "source": [
    "# Section - A\n",
    "# Q.1\n",
    "r = []\n",
    "for i in range (2000,3201):\n",
    "    if i%7 == 0 and i%5 != 0 :\n",
    "        r.append(i)\n",
    "for i in range(0,len(r)):\n",
    "    print(r[i],end=\"\")\n",
    "    if i != len(r)-1:\n",
    "        print(\",\",end=\"\")"
   ]
  },
  {
   "cell_type": "code",
   "execution_count": 17,
   "metadata": {},
   "outputs": [
    {
     "name": "stdout",
     "output_type": "stream",
     "text": [
      "['22', '33', '4', '55', '6']\n",
      "('22', '33', '4', '55', '6')\n"
     ]
    }
   ],
   "source": [
    "# Q.2\n",
    "n = input().split(\",\")\n",
    "t = tuple(n)\n",
    "print(n)\n",
    "print(t)"
   ]
  },
  {
   "cell_type": "code",
   "execution_count": 11,
   "metadata": {},
   "outputs": [
    {
     "name": "stdout",
     "output_type": "stream",
     "text": [
      "6,120"
     ]
    }
   ],
   "source": [
    "# Q.3\n",
    "n = list(map(int,input().split(\",\")))\n",
    "for i in range(0,len(n)):\n",
    "    s = 1\n",
    "    for j in range (n[i],1,-1):\n",
    "        s*=j\n",
    "    print(s,end=\"\")\n",
    "    if i != len(n)-1:     \n",
    "        print(\",\",end=\"\")\n",
    "\n"
   ]
  },
  {
   "cell_type": "code",
   "execution_count": 21,
   "metadata": {},
   "outputs": [
    {
     "name": "stdout",
     "output_type": "stream",
     "text": [
      "18,22,24"
     ]
    }
   ],
   "source": [
    "# Section - B\n",
    "# Q.1 \n",
    "C = 50\n",
    "D = list(map(int,input().split(\",\")))\n",
    "H = 30\n",
    "for i in range(0,len(D)):    \n",
    "    Q = ((2*C*D[i])/H)**(1/2)\n",
    "    print(int(Q),end=\"\")\n",
    "    if i != len(D)-1:\n",
    "        print(\",\",end=\"\")"
   ]
  },
  {
   "cell_type": "code",
   "execution_count": 6,
   "metadata": {},
   "outputs": [
    {
     "name": "stdout",
     "output_type": "stream",
     "text": [
      "1. Documents of abs() Fuction :\n",
      "Return the absolute value of the argument.\n",
      "2. Documents of int() Fuction :\n",
      "int([x]) -> integer\n",
      "int(x, base=10) -> integer\n",
      "\n",
      "Convert a number or string to an integer, or return 0 if no arguments\n",
      "are given.  If x is a number, return x.__int__().  For floating point\n",
      "numbers, this truncates towards zero.\n",
      "\n",
      "If x is not a number or if base is given, then x must be a string,\n",
      "bytes, or bytearray instance representing an integer literal in the\n",
      "given base.  The literal can be preceded by '+' or '-' and be surrounded\n",
      "by whitespace.  The base defaults to 10.  Valid bases are 0 and 2-36.\n",
      "Base 0 means to interpret the base from the string as an integer literal.\n",
      ">>> int('0b100', base=0)\n",
      "4\n",
      "3. Documents of input() Fuction :\n",
      "Forward raw_input to frontends\n",
      "\n",
      "        Raises\n",
      "        ------\n",
      "        StdinNotImplementedError if active frontend doesn't support stdin.\n",
      "        \n",
      "4. Documents of map() Fuction :\n",
      "map(func, *iterables) --> map object\n",
      "\n",
      "Make an iterator that computes the function using arguments from\n",
      "each of the iterables.  Stops when the shortest iterable is exhausted.\n"
     ]
    }
   ],
   "source": [
    "# Q.2\n",
    "# Just print Built-in Function Documents\n",
    "print(\"1. Documents of abs() Fuction :\")\n",
    "print(abs.__doc__)\n",
    "print(\"2. Documents of int() Fuction :\")\n",
    "print(int.__doc__)\n",
    "print(\"3. Documents of input() Fuction :\")\n",
    "print(input.__doc__)\n",
    "print(\"4. Documents of map() Fuction :\")\n",
    "print(map.__doc__)"
   ]
  },
  {
   "cell_type": "code",
   "execution_count": 48,
   "metadata": {},
   "outputs": [
    {
     "name": "stdout",
     "output_type": "stream",
     "text": [
      "2\n"
     ]
    }
   ],
   "source": [
    "# Q.3\n",
    "st = input().lower()\n",
    "sbst = input().lower()\n",
    "r = 0\n",
    "for i in range (0,len(st)):\n",
    "    if st[i:i+len(sbst)] == sbst:\n",
    "        r += 1\n",
    "print(r)"
   ]
  },
  {
   "cell_type": "code",
   "execution_count": 36,
   "metadata": {},
   "outputs": [
    {
     "name": "stdout",
     "output_type": "stream",
     "text": [
      "[1, 20, 30, 0, 0]\n"
     ]
    }
   ],
   "source": [
    "# Section - C\n",
    "# Q.1\n",
    "l = list(map(int,input().split()))\n",
    "n = l.count(0)\n",
    "l = [i for i in l if i != 0]\n",
    "for i in range (0,n) :\n",
    "    l.append(0)\n",
    "print(l)"
   ]
  },
  {
   "cell_type": "code",
   "execution_count": 11,
   "metadata": {},
   "outputs": [
    {
     "name": "stdout",
     "output_type": "stream",
     "text": [
      "[4, 6, 8]\n"
     ]
    }
   ],
   "source": [
    "# Q.3\n",
    "s = []\n",
    "l = list(map(int,input().split()))\n",
    "n = l[0]\n",
    "for i in range (0,len(l)):\n",
    "    while n != l[i]:    \n",
    "            s.append(n)\n",
    "            n += 1\n",
    "    else :\n",
    "        n += 1\n",
    "print(s)"
   ]
  },
  {
   "cell_type": "code",
   "execution_count": 63,
   "metadata": {},
   "outputs": [
    {
     "name": "stdout",
     "output_type": "stream",
     "text": [
      "Not a PANGRAM\n"
     ]
    }
   ],
   "source": [
    "# Q.4\n",
    "n = input().lower()\n",
    "f = 1\n",
    "for i in range (97,123):\n",
    "    if n.count(chr(i)) == 0:\n",
    "        print(\"Not a PANGRAM\")\n",
    "        break\n",
    "else:\n",
    "    print(\"PANGRAM\")\n",
    "\n"
   ]
  }
 ],
 "metadata": {
  "interpreter": {
   "hash": "cb0c3686fe04eaafaa7ba08a2c95f2d49b3da235373f015869b2209abafd3103"
  },
  "kernelspec": {
   "display_name": "Python 3.9.6 64-bit",
   "language": "python",
   "name": "python3"
  },
  "language_info": {
   "codemirror_mode": {
    "name": "ipython",
    "version": 3
   },
   "file_extension": ".py",
   "mimetype": "text/x-python",
   "name": "python",
   "nbconvert_exporter": "python",
   "pygments_lexer": "ipython3",
   "version": "3.9.6"
  },
  "orig_nbformat": 4
 },
 "nbformat": 4,
 "nbformat_minor": 2
}
