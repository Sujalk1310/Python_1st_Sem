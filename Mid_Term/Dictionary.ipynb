{
 "cells": [
  {
   "cell_type": "code",
   "execution_count": 1,
   "metadata": {},
   "outputs": [
    {
     "name": "stdout",
     "output_type": "stream",
     "text": [
      "{} <class 'dict'>\n"
     ]
    }
   ],
   "source": [
    "# initializing dictionary\n",
    "dct = dict()\n",
    "print (dct,type(dct))"
   ]
  },
  {
   "cell_type": "code",
   "execution_count": 5,
   "metadata": {},
   "outputs": [
    {
     "name": "stdout",
     "output_type": "stream",
     "text": [
      "{'name': 'sanam', 'rollno': 21}\n"
     ]
    }
   ],
   "source": [
    "# for the mutability\n",
    "dct = {'name':'amit','rollno':21}\n",
    "dct['name'] = 'sanam'\n",
    "print(dct)"
   ]
  },
  {
   "cell_type": "code",
   "execution_count": 6,
   "metadata": {},
   "outputs": [
    {
     "name": "stdout",
     "output_type": "stream",
     "text": [
      "{'name': 'amit'}\n"
     ]
    }
   ],
   "source": [
    "# for item deletion\n",
    "dct = {'name':'amit','rollno':21}\n",
    "del dct['rollno']\n",
    "print(dct)"
   ]
  },
  {
   "cell_type": "code",
   "execution_count": 7,
   "metadata": {},
   "outputs": [
    {
     "name": "stdout",
     "output_type": "stream",
     "text": [
      "{'name': 'amit', 'rollno': 21, 'cpi': 32}\n"
     ]
    }
   ],
   "source": [
    "# for append\n",
    "dct = {'name':'amit','rollno':21}\n",
    "dct['cpi'] = 32\n",
    "print (dct)"
   ]
  },
  {
   "cell_type": "code",
   "execution_count": 11,
   "metadata": {},
   "outputs": [
    {
     "name": "stdout",
     "output_type": "stream",
     "text": [
      "{'name': 'sujal', 'rollno': 21}\n"
     ]
    }
   ],
   "source": [
    "# case of repeating index\n",
    "dct = {'name':'amit','rollno':21,'name':'sujal'}\n",
    "print(dct)"
   ]
  },
  {
   "cell_type": "code",
   "execution_count": null,
   "metadata": {},
   "outputs": [],
   "source": [
    "'''\n",
    "clear()- Removes all items\n",
    "copy()- Returns shallow copy of a dictionary\n",
    "fromkeys()- Creates dictionary from given sequence\n",
    "get()- Returns value of the key\n",
    "items()- Returns view of dictionary's (key,value) pair\n",
    "keys()- Returns view object of all keys\n",
    "popitem()- Returns and removes element from dictionary\n",
    "setdefault()- Inserts key with a value if key is not present\n",
    "pop()- Remove and returns all element having given key\n",
    "values()- Return view of all values in dict\n",
    "updates()- Update the dictionary\n",
    "'''"
   ]
  },
  {
   "cell_type": "code",
   "execution_count": 12,
   "metadata": {},
   "outputs": [
    {
     "name": "stdout",
     "output_type": "stream",
     "text": [
      "{}\n"
     ]
    }
   ],
   "source": [
    "#clear()\n",
    "dct = {'name':'amit','rollno':21}\n",
    "dct.clear()\n",
    "print(dct)"
   ]
  },
  {
   "cell_type": "code",
   "execution_count": 16,
   "metadata": {},
   "outputs": [
    {
     "name": "stdout",
     "output_type": "stream",
     "text": [
      "{'name': 'amit', 'rollno': 21}\n"
     ]
    }
   ],
   "source": [
    "#copy()\n",
    "dct = {'name':'amit','rollno':21}\n",
    "x = dct.copy()\n",
    "x.clear()\n",
    "print(dct)"
   ]
  },
  {
   "cell_type": "code",
   "execution_count": 22,
   "metadata": {},
   "outputs": [
    {
     "name": "stdout",
     "output_type": "stream",
     "text": [
      "{'name': 'NA', 'rollno': 'NA', 'add': 'NA'}\n"
     ]
    }
   ],
   "source": [
    "#fromkeys()\n",
    "lst = ['name','rollno','add']\n",
    "out = {}.fromkeys(lst,'NA')\n",
    "print(out)"
   ]
  },
  {
   "cell_type": "code",
   "execution_count": 3,
   "metadata": {},
   "outputs": [
    {
     "name": "stdout",
     "output_type": "stream",
     "text": [
      "nononono\n"
     ]
    }
   ],
   "source": [
    "#get()\n",
    "dct = {'name':'amit','rollno':21}\n",
    "print(dct.get('id','nononono'))"
   ]
  },
  {
   "cell_type": "code",
   "execution_count": 34,
   "metadata": {},
   "outputs": [
    {
     "name": "stdout",
     "output_type": "stream",
     "text": [
      "[('name', 'amit'), ('rollno', 21)]\n"
     ]
    }
   ],
   "source": [
    "#items()\n",
    "dct = {'name':'amit','rollno':21}\n",
    "out = list(dct.items())\n",
    "print(out)"
   ]
  },
  {
   "cell_type": "code",
   "execution_count": 35,
   "metadata": {},
   "outputs": [
    {
     "name": "stdout",
     "output_type": "stream",
     "text": [
      "{'name': 'rajat', 'rollno': 11}\n"
     ]
    }
   ],
   "source": [
    "#update()\n",
    "dct = {'name':'amit','rollno':21}\n",
    "dct2 = {'name':'rajat','rollno':11}\n",
    "dct.update(dct2)\n",
    "print(dct)"
   ]
  },
  {
   "cell_type": "code",
   "execution_count": 52,
   "metadata": {},
   "outputs": [
    {
     "name": "stdout",
     "output_type": "stream",
     "text": [
      "{'name': 'Sujal', 'roll': 47}\n"
     ]
    }
   ],
   "source": [
    "dct = {'name':'Sujal','roll':47}\n",
    "dct.update()\n",
    "print(dct)"
   ]
  },
  {
   "cell_type": "code",
   "execution_count": 72,
   "metadata": {},
   "outputs": [
    {
     "name": "stdout",
     "output_type": "stream",
     "text": [
      "{'w': 1, 'b': 2, 'Apple': 1, 'apple': 1}\n"
     ]
    }
   ],
   "source": [
    "a = {'w':1,'b':2}\n",
    "a['Apple']=1\n",
    "a['apple']=1\n",
    "print(a)"
   ]
  }
 ],
 "metadata": {
  "interpreter": {
   "hash": "cb0c3686fe04eaafaa7ba08a2c95f2d49b3da235373f015869b2209abafd3103"
  },
  "kernelspec": {
   "display_name": "Python 3.9.6 64-bit",
   "name": "python3"
  },
  "language_info": {
   "codemirror_mode": {
    "name": "ipython",
    "version": 3
   },
   "file_extension": ".py",
   "mimetype": "text/x-python",
   "name": "python",
   "nbconvert_exporter": "python",
   "pygments_lexer": "ipython3",
   "version": "3.10.1"
  },
  "orig_nbformat": 4
 },
 "nbformat": 4,
 "nbformat_minor": 2
}
