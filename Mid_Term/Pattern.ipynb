{
 "cells": [
  {
   "cell_type": "code",
   "execution_count": 2,
   "metadata": {},
   "outputs": [
    {
     "name": "stdout",
     "output_type": "stream",
     "text": [
      "*****\n",
      "****\n",
      "***\n",
      "**\n",
      "*\n"
     ]
    }
   ],
   "source": [
    "'''\n",
    "*\n",
    "**\n",
    "***\n",
    "****\n",
    "*****\n",
    "'''\n",
    "# Write this pattern\n",
    "row = int(input(\"Enter No. of Rows : \"))\n",
    "for i in range (row,0,-1) : #(1,row+1) -> increasing format \n",
    "    print('*'*i)"
   ]
  },
  {
   "cell_type": "code",
   "execution_count": 24,
   "metadata": {},
   "outputs": [
    {
     "name": "stdout",
     "output_type": "stream",
     "text": [
      "    *\n",
      "   ***\n",
      "  *****\n",
      " *******\n",
      "*********\n",
      "    *\n",
      "   * *\n",
      "  *   *\n",
      " *     *\n",
      "*********\n"
     ]
    }
   ],
   "source": [
    "'''\n",
    "   *\n",
    "  ***\n",
    " *****\n",
    "*******\n",
    "'''\n",
    "row = int(input(\"Enter No. of Rows : \"))\n",
    "'''\n",
    "for i in range (1,row+1) :\n",
    "    print(' '*(row-i),'*'*(2*i-1))\n",
    "'''\n",
    "\n",
    "for i in range (1,row+1):\n",
    "    for j in range (1,row-i+1):\n",
    "        print(' ',end='')\n",
    "    for k in range (1,2*i):\n",
    "        print(\"*\",end=\"\")\n",
    "    print()\n",
    "\n",
    "''' Hollow Triangle'''\n",
    "for i in range (1,row+1):\n",
    "    for j in range (1,row-i+1):\n",
    "        print(' ',end='')\n",
    "    for k in range (1,2*i):    \n",
    "        if k==1 or k == 2*i-1 or i == row :\n",
    "            print(\"*\",end=\"\")\n",
    "        else :\n",
    "            print(\" \",end=\"\")\n",
    "    print()  "
   ]
  },
  {
   "cell_type": "code",
   "execution_count": 33,
   "metadata": {},
   "outputs": [
    {
     "name": "stdout",
     "output_type": "stream",
     "text": [
      "A \n",
      "B C \n",
      "D E F \n",
      "G H I J \n"
     ]
    }
   ],
   "source": [
    "'''Number Pattern'''\n",
    "row = int(input(\"Enter No. of Rows : \"))\n",
    "k = 65 # k = 1\n",
    "for i in range (1,row+1):\n",
    "    for j in range(1,i+1):\n",
    "        print(chr(k),end=\" \") # k for numbers\n",
    "        k += 1\n",
    "    print()"
   ]
  },
  {
   "cell_type": "code",
   "execution_count": 3,
   "metadata": {},
   "outputs": [
    {
     "name": "stdout",
     "output_type": "stream",
     "text": [
      "0b1010\n",
      "   0\n",
      "   1\n",
      "  10\n",
      "  11\n",
      " 100\n",
      " 101\n",
      " 110\n",
      " 111\n",
      "1000\n",
      "1001\n",
      "1010\n"
     ]
    }
   ],
   "source": [
    "# Burj Khalifa Question\n",
    "'''\n",
    "10\n",
    "\n",
    "  0\n",
    "  1\n",
    " 10\n",
    " 11\n",
    "100\n",
    "101\n",
    "'''\n",
    "print(bin(10))\n",
    "n = int(input())\n",
    "for i in range (0,n+1) :\n",
    "    print(' '*(len(bin(n))-2 - len(bin(i)[2:]))+bin(i)[2:])"
   ]
  },
  {
   "cell_type": "code",
   "execution_count": 14,
   "metadata": {},
   "outputs": [
    {
     "name": "stdout",
     "output_type": "stream",
     "text": [
      "\n",
      "* \n",
      "* * \n",
      "* * * \n",
      "* * * * \n",
      "* * * * * \n"
     ]
    }
   ],
   "source": [
    "n = int(input())\n",
    "for i in range(0,n+1):    \n",
    "    for j in range(0,i):    \n",
    "        print('*',end=' ')\n",
    "    print()"
   ]
  },
  {
   "cell_type": "code",
   "execution_count": 17,
   "metadata": {},
   "outputs": [
    {
     "name": "stdout",
     "output_type": "stream",
     "text": [
      "* * * * * \n",
      "* * * * \n",
      "* * * \n",
      "* * \n",
      "* \n"
     ]
    }
   ],
   "source": [
    "n = int(input())\n",
    "for i in range(n,0,-1):\n",
    "    for j in range (i,0,-1):    \n",
    "        print('*',end=' ')\n",
    "    print()"
   ]
  },
  {
   "cell_type": "code",
   "execution_count": 60,
   "metadata": {},
   "outputs": [
    {
     "name": "stdout",
     "output_type": "stream",
     "text": [
      "          \n",
      "        * \n",
      "      * * \n",
      "    * * * \n",
      "  * * * * \n",
      "* * * * * \n"
     ]
    }
   ],
   "source": [
    "n = int(input())\n",
    "for i in range (0,n+1):\n",
    "    for j in range (0,n-i):\n",
    "        print(' ',end=\" \")\n",
    "    for k in range (0,i):\n",
    "        print ('*',end=\" \")\n",
    "    print ()\n"
   ]
  },
  {
   "cell_type": "code",
   "execution_count": 61,
   "metadata": {},
   "outputs": [
    {
     "name": "stdout",
     "output_type": "stream",
     "text": [
      "* * * * * \n",
      "  * * * * \n",
      "    * * * \n",
      "      * * \n",
      "        * \n"
     ]
    }
   ],
   "source": [
    "n = int(input())\n",
    "for i in range (n,0,-1):\n",
    "    for j in range (0,n-i):\n",
    "        print(' ',end=\" \")\n",
    "    for k in range (0,i):\n",
    "        print ('*',end=\" \")\n",
    "    print ()\n"
   ]
  },
  {
   "cell_type": "code",
   "execution_count": 74,
   "metadata": {},
   "outputs": [
    {
     "name": "stdout",
     "output_type": "stream",
     "text": [
      "\n",
      "1 \n",
      "1 2 \n",
      "1 2 3 \n",
      "1 2 3 4 \n",
      "1 2 3 4 5 \n"
     ]
    }
   ],
   "source": [
    "n = int(input())\n",
    "for i in range (0,n+1):\n",
    "    for j in range(1,i+1):\n",
    "        print(j,end=\" \")\n",
    "    print()"
   ]
  },
  {
   "cell_type": "code",
   "execution_count": 77,
   "metadata": {},
   "outputs": [
    {
     "name": "stdout",
     "output_type": "stream",
     "text": [
      "\n",
      "1 \n",
      "2 3 \n",
      "4 5 6 \n",
      "7 8 9 1 \n",
      "2 3 4 5 6 \n"
     ]
    }
   ],
   "source": [
    "n = int(input())\n",
    "k = 1\n",
    "for i in range (0,n+1):\n",
    "    for j in range (0,i):\n",
    "        print (k,end=\" \")\n",
    "        k += 1\n",
    "        if k > 9 :\n",
    "            k = 1\n",
    "    print()"
   ]
  },
  {
   "cell_type": "code",
   "execution_count": 78,
   "metadata": {},
   "outputs": [
    {
     "name": "stdout",
     "output_type": "stream",
     "text": [
      "\n",
      "A \n",
      "B C \n",
      "D E F \n",
      "G H I J \n",
      "K L M N O \n"
     ]
    }
   ],
   "source": [
    "n = int(input())\n",
    "k = 65\n",
    "for i in range (0,n+1):\n",
    "    for j in range (0,i):\n",
    "        print (chr(k),end=\" \")\n",
    "        k += 1\n",
    "    print()"
   ]
  },
  {
   "cell_type": "code",
   "execution_count": 81,
   "metadata": {},
   "outputs": [
    {
     "name": "stdout",
     "output_type": "stream",
     "text": [
      "          \n",
      "        * \n",
      "      * * * \n",
      "    * * * * * \n",
      "  * * * * * * * \n",
      "* * * * * * * * * \n"
     ]
    }
   ],
   "source": [
    "n = int(input())\n",
    "for i in range (0,n+1):\n",
    "    for j in range (0,n-i):\n",
    "        print(' ',end=\" \")\n",
    "    for k in range (0,2*i-1):\n",
    "        print ('*',end=\" \")\n",
    "    print ()\n"
   ]
  },
  {
   "cell_type": "code",
   "execution_count": 91,
   "metadata": {},
   "outputs": [
    {
     "name": "stdout",
     "output_type": "stream",
     "text": [
      "           \n",
      "    *     *\n",
      "   **    **\n",
      "  ***   ***\n",
      " ****  ****\n",
      "***** *****\n"
     ]
    }
   ],
   "source": [
    "n = int(input())\n",
    "for i in range (0,n+1):\n",
    "    for j in range (0,n-i):\n",
    "        print(' ',end=\"\")\n",
    "    for k in range (0,i):\n",
    "        print ('*',end=\"\")\n",
    "    print(\" \",end=\"\")\n",
    "    for j in range (0,n-i):\n",
    "        print(' ',end=\"\")\n",
    "    for k in range (0,i):\n",
    "        print ('*',end=\"\")\n",
    "    print ()\n"
   ]
  },
  {
   "cell_type": "code",
   "execution_count": 164,
   "metadata": {},
   "outputs": [
    {
     "name": "stdout",
     "output_type": "stream",
     "text": [
      "**********\n",
      "*        *\n",
      "*        *\n",
      "*        *\n",
      "*        *\n",
      "**********\n"
     ]
    }
   ],
   "source": [
    "n = int(input())\n",
    "for i in range (0,n+1):\n",
    "    if i == 0 or i == n:\n",
    "        print('*'*10)\n",
    "    else:\n",
    "        print (\"*\",\" \"*6,\"*\")"
   ]
  },
  {
   "cell_type": "code",
   "execution_count": 94,
   "metadata": {},
   "outputs": [
    {
     "name": "stdout",
     "output_type": "stream",
     "text": [
      "          \n",
      "        * \n",
      "      * * * \n",
      "    * * * * * \n",
      "  * * * * * * * \n",
      "* * * * * * * * * \n",
      "  * * * * * * * \n",
      "    * * * * * \n",
      "      * * * \n",
      "        * \n"
     ]
    }
   ],
   "source": [
    "n = int(input())\n",
    "for i in range (0,n+1):\n",
    "    for j in range (0,n-i):\n",
    "        print(' ',end=\" \")\n",
    "    for k in range (0,2*i-1):\n",
    "        print ('*',end=\" \")\n",
    "    print ()\n",
    "for i in range (n-1,0,-1):\n",
    "    for j in range (0,n-i):\n",
    "        print(' ',end=\" \")\n",
    "    for k in range (0,2*i-1):\n",
    "        print ('*',end=\" \")\n",
    "    print ()\n"
   ]
  },
  {
   "cell_type": "code",
   "execution_count": 117,
   "metadata": {},
   "outputs": [
    {
     "name": "stdout",
     "output_type": "stream",
     "text": [
      "* * * * * * * * * * \n",
      "* * * *     * * * * \n",
      "* * *         * * * \n",
      "* *             * * \n",
      "*                 * \n"
     ]
    }
   ],
   "source": [
    "n = int(input())\n",
    "for i in range (0,n):\n",
    "    for j in range (0,n-i):\n",
    "        print('*',end=\" \")\n",
    "    for k in range (0,2*i):\n",
    "        print (' ',end=\" \")\n",
    "    for g in range (n-i,0,-1):\n",
    "        print('*',end=\" \")\n",
    "    print ()\n"
   ]
  },
  {
   "cell_type": "code",
   "execution_count": 160,
   "metadata": {},
   "outputs": [
    {
     "name": "stdout",
     "output_type": "stream",
     "text": [
      "                    \n",
      "*                 * \n",
      "* *             * * \n",
      "* * *         * * * \n",
      "* * * *     * * * * \n",
      "* * * * * * * * * * \n",
      "* * * *     * * * * \n",
      "* * *         * * * \n",
      "* *             * * \n",
      "*                 * \n",
      "                    \n"
     ]
    }
   ],
   "source": [
    "n = int(input())\n",
    "for i in range (0,n+1):\n",
    "    for j in range (0,i):\n",
    "        print('*',end=\" \")\n",
    "    for k in range (0,n-i):\n",
    "        print(\" \",end =\" \")\n",
    "    for k in range (0,n-i):\n",
    "        print(\" \",end =\" \")\n",
    "    for k in range (0,i):\n",
    "        print('*',end=\" \")\n",
    "    print()\n",
    "for a in range (n,0,-1):    \n",
    "    for j in range (a-1,0,-1):\n",
    "        print('*',end=\" \")\n",
    "    for k in range (0,n-a+1):\n",
    "        print(\" \",end =\" \")\n",
    "    for k in range (0,n-a+1):\n",
    "        print(\" \",end =\" \")\n",
    "    for k in range (a-1,0,-1):\n",
    "        print('*',end=\" \")\n",
    "    print()"
   ]
  }
 ],
 "metadata": {
  "interpreter": {
   "hash": "cb0c3686fe04eaafaa7ba08a2c95f2d49b3da235373f015869b2209abafd3103"
  },
  "kernelspec": {
   "display_name": "Python 3.9.6 64-bit",
   "language": "python",
   "name": "python3"
  },
  "language_info": {
   "codemirror_mode": {
    "name": "ipython",
    "version": 3
   },
   "file_extension": ".py",
   "mimetype": "text/x-python",
   "name": "python",
   "nbconvert_exporter": "python",
   "pygments_lexer": "ipython3",
   "version": "3.10.1"
  },
  "orig_nbformat": 4
 },
 "nbformat": 4,
 "nbformat_minor": 2
}
