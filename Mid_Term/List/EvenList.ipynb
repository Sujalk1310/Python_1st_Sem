{
 "cells": [
  {
   "cell_type": "code",
   "execution_count": 3,
   "metadata": {},
   "outputs": [
    {
     "name": "stdout",
     "output_type": "stream",
     "text": [
      "[2, 4, 6, 8]\n"
     ]
    }
   ],
   "source": [
    "ls = [1,2,3,4,5,6,7,8]\n",
    "ls1 = []\n",
    "for i in ls :\n",
    "    if i%2 == 0:\n",
    "        ls1.append(i)\n",
    "print(ls1)"
   ]
  }
 ],
 "metadata": {
  "interpreter": {
   "hash": "cb0c3686fe04eaafaa7ba08a2c95f2d49b3da235373f015869b2209abafd3103"
  },
  "kernelspec": {
   "display_name": "Python 3.9.6 64-bit",
   "language": "python",
   "name": "python3"
  },
  "language_info": {
   "codemirror_mode": {
    "name": "ipython",
    "version": 3
   },
   "file_extension": ".py",
   "mimetype": "text/x-python",
   "name": "python",
   "nbconvert_exporter": "python",
   "pygments_lexer": "ipython3",
   "version": "3.9.6"
  },
  "orig_nbformat": 4
 },
 "nbformat": 4,
 "nbformat_minor": 2
}
