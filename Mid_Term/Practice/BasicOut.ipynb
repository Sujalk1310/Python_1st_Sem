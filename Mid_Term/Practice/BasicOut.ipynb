{
 "cells": [
  {
   "cell_type": "code",
   "execution_count": 6,
   "metadata": {},
   "outputs": [
    {
     "name": "stdout",
     "output_type": "stream",
     "text": [
      "Hello\n",
      "World\n"
     ]
    }
   ],
   "source": [
    "# Basic Calcuation\n",
    "# 1.\n",
    "st1 = \"Hello\"\n",
    "st2 = \"World\"\n",
    "print(f\"{st1}\\n{st2}\")"
   ]
  },
  {
   "cell_type": "code",
   "execution_count": 7,
   "metadata": {},
   "outputs": [
    {
     "name": "stdout",
     "output_type": "stream",
     "text": [
      "Hello World\n"
     ]
    }
   ],
   "source": [
    "# 2.\n",
    "st1 = \"Hello\"\n",
    "st2 = \"World\"\n",
    "print(st1,st2)"
   ]
  },
  {
   "cell_type": "code",
   "execution_count": 8,
   "metadata": {},
   "outputs": [
    {
     "name": "stdout",
     "output_type": "stream",
     "text": [
      "3\n"
     ]
    }
   ],
   "source": [
    "# 3.\n",
    "a = int(input(\"Enter 1st No. \")) # Input - 1\n",
    "b = int(input(\"Enter 2nd No. \")) # Input - 2\n",
    "print(a+b)"
   ]
  },
  {
   "cell_type": "code",
   "execution_count": 9,
   "metadata": {},
   "outputs": [
    {
     "name": "stdout",
     "output_type": "stream",
     "text": [
      "2\n"
     ]
    }
   ],
   "source": [
    "# 4.\n",
    "a = int(input(\"Enter 1st No. \")) # Input - 3\n",
    "b = int(input(\"Enter 2nd No. \")) # Input - 1\n",
    "print(a-b)"
   ]
  },
  {
   "cell_type": "code",
   "execution_count": 10,
   "metadata": {},
   "outputs": [
    {
     "name": "stdout",
     "output_type": "stream",
     "text": [
      "6\n"
     ]
    }
   ],
   "source": [
    "# 5.\n",
    "a = int(input(\"Enter 1st No. \")) # Input - 3\n",
    "b = int(input(\"Enter 2nd No. \")) # Input - 2\n",
    "print(a*b)"
   ]
  },
  {
   "cell_type": "code",
   "execution_count": 11,
   "metadata": {},
   "outputs": [
    {
     "name": "stdout",
     "output_type": "stream",
     "text": [
      "8\n"
     ]
    }
   ],
   "source": [
    "# 6.\n",
    "a = int(input(\"Enter 1st No. \")) # Input - 2\n",
    "b = int(input(\"Enter 2nd No. \")) # Input - 3\n",
    "print(a**b) # For power we use ** (Double Astrix) (Formula : aᵇ)"
   ]
  },
  {
   "cell_type": "code",
   "execution_count": 18,
   "metadata": {},
   "outputs": [
    {
     "name": "stdout",
     "output_type": "stream",
     "text": [
      "Area = 8 cm², Perimeter = 12 cm\n"
     ]
    }
   ],
   "source": [
    "# 7.\n",
    "l = int(input(\"Enter length (in cm) : \")) # Input - 2\n",
    "b = int(input(\"Enter breadth (in cm) : \")) # Input - 4\n",
    "A = l*b\n",
    "P = 2*(l+b)\n",
    "print(\"Area =\",A,\"cm²,\",\"Perimeter =\",P,\"cm\")"
   ]
  },
  {
   "cell_type": "code",
   "execution_count": 21,
   "metadata": {},
   "outputs": [
    {
     "name": "stdout",
     "output_type": "stream",
     "text": [
      "Area = 154.0 cm², Circumference = 44.0 cm\n"
     ]
    }
   ],
   "source": [
    "# 8.\n",
    "# eval is used to evaluate, what type the given data is !!\n",
    "r = eval(input(\"Enter Radius (in cm) : \"))\n",
    "# Here it can also be Float !! Input - 7\n",
    "A = (22/7)*r*r # or 3.14*r**2 or (22/7)*r**2 (Formula = 𝝅r²)\n",
    "P = 2*(22/7)*r # or 2*3.14*r (Formula = 2𝝅r)\n",
    "print(\"Area =\",A,\"cm²,\",\"Circumference =\",P,\"cm\")"
   ]
  },
  {
   "cell_type": "code",
   "execution_count": 23,
   "metadata": {},
   "outputs": [
    {
     "name": "stdout",
     "output_type": "stream",
     "text": [
      "Value of Hypotenuse is : 5.0 cm\n"
     ]
    }
   ],
   "source": [
    "# 9.\n",
    "B = eval(input(\"Enter Base length (in cm) : \")) # Input - 3\n",
    "H = eval(input(\"Enter Height length (in cm) : \")) # Input - 4\n",
    "Hypo = ((B)**2+(H)**2)**(1/2) # or (B*B+H*H)**(1/2)\n",
    "# (Formula : (Hypotenuse)²=(Height)²+(Base)²) Pythagorus Theorem\n",
    "print(\"Value of Hypotenuse is :\",Hypo,\"cm\")"
   ]
  },
  {
   "cell_type": "code",
   "execution_count": 24,
   "metadata": {},
   "outputs": [
    {
     "name": "stdout",
     "output_type": "stream",
     "text": [
      "Before Swapping -->\n",
      "1st Value : 5\n",
      "2nd Value : 1\n",
      "After Swapping -->\n",
      "1st Value : 1\n",
      "2ns Value : 5\n"
     ]
    }
   ],
   "source": [
    "# 10.\n",
    "a = int(input()) # Input - 5\n",
    "b = int(input()) # Input - 1\n",
    "print(\"Before Swapping -->\")\n",
    "print(\"1st Value :\",a)\n",
    "print(\"2nd Value :\",b)\n",
    "print(\"After Swapping -->\")\n",
    "z = a\n",
    "a = b\n",
    "b = z\n",
    "print(\"1st Value :\",a)\n",
    "print(\"2ns Value :\",b)"
   ]
  },
  {
   "cell_type": "code",
   "execution_count": 26,
   "metadata": {},
   "outputs": [
    {
     "name": "stdout",
     "output_type": "stream",
     "text": [
      "Qty. of ₹2000 : 2\n",
      "Qty. of ₹500 : 2\n",
      "Qty. of ₹100 : 1\n"
     ]
    }
   ],
   "source": [
    "# 11.\n",
    "Amt = int(input(\"Enter the Amount you want to withdraw (₹) : \"))-100\n",
    "# Input - ₹5100\n",
    "if Amt%100==0: # If Entered Value is less than ₹100 !!\n",
    "    TwoK = Amt//2000 # No. of ₹2000\n",
    "    FiveH = (Amt-(TwoK*2000))//500 # No. of ₹500\n",
    "    OneH = (Amt-(TwoK*2000+FiveH*500))//100 # (No. of ₹100)-1\n",
    "    print(\"Qty. of ₹2000 :\",TwoK)\n",
    "    print(\"Qty. of ₹500 :\",FiveH)\n",
    "    print(\"Qty. of ₹100 :\",OneH+1) \n",
    "    # Here 1 is added to balance that (-100) on Input !!\n",
    "else :\n",
    "    print(\"Amount Cannot be Dispensed !!\")"
   ]
  },
  {
   "cell_type": "code",
   "execution_count": 46,
   "metadata": {},
   "outputs": [
    {
     "name": "stdout",
     "output_type": "stream",
     "text": [
      "RIGHT-ANGLED TRIANLGE !!\n",
      "SCALENE TRIANGLE !!\n"
     ]
    }
   ],
   "source": [
    "# 12.\n",
    "S1 = eval(input(\"Enter 1st Side length (in cm) : \")) # Input - 10\n",
    "S2 = eval(input(\"Enter 2nd Side length (in cm) : \")) # Input - 20\n",
    "S3 = eval(input(\"Enter 3rd Side length (in cm) : \")) # Input - 30\n",
    "P = (S1+S2+S3)/2 # Half Perimeter for Heron's Formula\n",
    "if (P*(P-S1)*(P-S2)*(P-S3))**(1/2) == 0 :\n",
    "# (Formula = (S(S-a)(S-b)(S-c))**(1/2))\n",
    "    print(\"Invalid Triangle !!\")\n",
    "else :\n",
    "    if ((S1)**2+(S2)**2)**(1/2) == S3 or ((S2)**2+(S3)**2)**(1/2) == S1 or ((S3)**2+(S1))**2**(1/2) == S2 :\n",
    "        # Pythagoras Theorem\n",
    "        print (\"RIGHT-ANGLED TRIANLGE !!\")\n",
    "    if (S1 == S2 or S1 == S3):\n",
    "        if (S1 == S2 and S2 == S3):\n",
    "            print (\"EQUILATERAL TRIANGLE !!\")\n",
    "        else :\n",
    "            print (\"ISOCELES TRIANGLE !!\")\n",
    "    else :\n",
    "        print(\"SCALENE TRIANGLE !!\")"
   ]
  },
  {
   "cell_type": "code",
   "execution_count": 29,
   "metadata": {},
   "outputs": [
    {
     "name": "stdout",
     "output_type": "stream",
     "text": [
      "Simple Interest : ₹ 2000.0\n",
      "Total Amount : ₹ 22000.0\n"
     ]
    }
   ],
   "source": [
    "# 13.\n",
    "P = eval(input(\"Enter Principle Amount : ₹\")) # Input - ₹20000\n",
    "R = eval(input(\"Enter Interest Rate (in %) : \")) # Input -  5%\n",
    "T = eval(input(\"Enter Tenure Period (in Years) : \")) # Input -  2\n",
    "SI = (P*R*T)/100 \n",
    "# (Formula = (Principle Amount x Rate of Interest x Time Period)/100)\n",
    "print (\"Simple Interest : ₹\",SI)\n",
    "print (\"Total Amount : ₹\",SI+P)"
   ]
  },
  {
   "cell_type": "code",
   "execution_count": 1,
   "metadata": {},
   "outputs": [
    {
     "name": "stdout",
     "output_type": "stream",
     "text": [
      "Amount After Maturity : ₹ 22050.0\n"
     ]
    }
   ],
   "source": [
    "# 14.\n",
    "P = eval(input(\"Enter Principle Amount : ₹\")) # Input - ₹20000\n",
    "R = eval(input(\"Enter Interest Rate (in %) : \")) # Input -  5%\n",
    "T = eval(input(\"Enter Tenure Period (in Years) : \")) # Input -  2\n",
    "CI = P*((1+(R/100))**T)\n",
    "# (Formula = (Principle Amount x ((1+(Rate of Interest/100))**(Time Period)))\n",
    "print (\"Amount After Maturity : ₹\",CI)"
   ]
  },
  {
   "cell_type": "code",
   "execution_count": 31,
   "metadata": {},
   "outputs": [
    {
     "name": "stdout",
     "output_type": "stream",
     "text": [
      "No. of Tiles Required : 100\n"
     ]
    }
   ],
   "source": [
    "# 15.\n",
    "TFL = eval(input(\"Enter length of Floor (in cm) : \")) # Input - 200\n",
    "TFB = eval(input(\"Enter breadth of Floor (in cm) : \")) # Input - 100\n",
    "TTL = eval(input(\"Enter length of Tile (in cm) : \")) # Input - 20\n",
    "TTB = eval(input(\"Enter breadth of Tile (in cm) : \")) # Input - 10\n",
    "TFA = TFL*TFB # Area of Floor\n",
    "TTA = TTL*TTB # Area of Tile\n",
    "N = round(TFA/TTA) # No. of Tiles\n",
    "print (\"No. of Tiles Required :\",N) "
   ]
  },
  {
   "cell_type": "code",
   "execution_count": 34,
   "metadata": {},
   "outputs": [
    {
     "name": "stdout",
     "output_type": "stream",
     "text": [
      "Total Runs Scored : 1653\n"
     ]
    }
   ],
   "source": [
    "# 16.\n",
    "Over = int(input(\"Enter No. of Overs\")) # Input - 50\n",
    "TotR = ((Over-1)*33)+36\n",
    "print(\"Total Runs Scored :\",TotR)"
   ]
  },
  {
   "cell_type": "code",
   "execution_count": 36,
   "metadata": {},
   "outputs": [
    {
     "name": "stdout",
     "output_type": "stream",
     "text": [
      "No of Hens : 150\n",
      "No. of Goats : 190\n"
     ]
    }
   ],
   "source": [
    "# 17.\n",
    "Heads = int(input(\"Enter No. of Heads : \")) # Input - 340\n",
    "Feets = int(input(\"Enter No. of Fees : \"))  # Input - 1060\n",
    "f = 1   # Flag for While Loop\n",
    "GoatH = 1 # Initialzing Value\n",
    "while f == 1 :\n",
    "    HenH = Heads-GoatH # There will be only 1 Head for each animal, 2 Feets for Hen and 4 Feets for Goat !!\n",
    "    if 2*HenH+4*GoatH == Feets:\n",
    "        print(\"No of Hens :\",HenH)\n",
    "        print(\"No. of Goats :\",GoatH)\n",
    "        f = 0 # Flag Closed\n",
    "    else :\n",
    "        GoatH += 1 # Until If-Value True !!"
   ]
  },
  {
   "cell_type": "code",
   "execution_count": 47,
   "metadata": {},
   "outputs": [
    {
     "name": "stdout",
     "output_type": "stream",
     "text": [
      "Even\n"
     ]
    }
   ],
   "source": [
    "# If-else\n",
    "# 1.\n",
    "n = int(input(\"Enter No. : \")) # Input - 2\n",
    "if n%2==0: # Finds Remainder\n",
    "    print(\"Even\")\n",
    "else :\n",
    "    print(\"Odd\")"
   ]
  },
  {
   "cell_type": "code",
   "execution_count": 49,
   "metadata": {},
   "outputs": [
    {
     "name": "stdout",
     "output_type": "stream",
     "text": [
      "5\n"
     ]
    }
   ],
   "source": [
    "# 2.\n",
    "a = int(input(\"Enter 1st No. : \")) # Input - 2\n",
    "b = int(input(\"Enter 2nd No. : \")) # Input - 7\n",
    "if a > b : # Compare Greatest Value !!\n",
    "    print(a-b)\n",
    "else :\n",
    "    print(b-a)"
   ]
  },
  {
   "cell_type": "code",
   "execution_count": 123,
   "metadata": {},
   "outputs": [
    {
     "name": "stdout",
     "output_type": "stream",
     "text": [
      "301\n"
     ]
    }
   ],
   "source": [
    "# 3.\n",
    "i = 1 # Initializing from 1\n",
    "while True:\n",
    "    if i%7==0 and i%6==1 and i%5==1 and i%4==1 and i%3==1 and i%2==1 : # All Conditions must be TRUE !!\n",
    "        print(i)\n",
    "        break\n",
    "    i+=1\n"
   ]
  },
  {
   "cell_type": "code",
   "execution_count": 50,
   "metadata": {},
   "outputs": [
    {
     "name": "stdout",
     "output_type": "stream",
     "text": [
      "7\n"
     ]
    }
   ],
   "source": [
    "# If-elif-else\n",
    "# 1.\n",
    "a = int(input(\"Enter 1st No. : \")) # Input - 4\n",
    "b = int(input(\"Enter 2nd No. : \")) # Input - 7\n",
    "c = int(input(\"Enter 3rd No. : \")) # Input - 2\n",
    "if a>b and a>c : # Comparing Largest Value !!\n",
    "    print(a)\n",
    "elif (b>c):\n",
    "    print(b)\n",
    "else :\n",
    "    print(c)"
   ]
  },
  {
   "cell_type": "code",
   "execution_count": 62,
   "metadata": {},
   "outputs": [
    {
     "name": "stdout",
     "output_type": "stream",
     "text": [
      "ON CIRCLE\n"
     ]
    }
   ],
   "source": [
    "# 2.\n",
    "h,k = eval(input(\"Enter h Co-ordinate : \")),eval(input(\"Enter k Co-ordinate : \")) # Input - 1 , 1\n",
    "r = eval(input(\"Enter Radius Value : \")) # Input - 5\n",
    "x,y = eval(input(\"Enter x Co-ordinate : \")),eval(input(\"Enter y Co-ordinate : \")) # Input - 4 , 5\n",
    "length = ((x-h)**2+(y-k)**2)**(1/2)\n",
    "# (Formula = ((X2-X1)^2+(Y2-Y1)^2)^(1/2))\n",
    "if length == r : # Comparing Radius\n",
    "    print(\"ON CIRCLE\")\n",
    "elif length > r:\n",
    "    print(\"OUTSIDE THE CIRCLE\")\n",
    "else :\n",
    "    print(\"INSIDE THE CIRCLE\")"
   ]
  },
  {
   "cell_type": "code",
   "execution_count": 68,
   "metadata": {},
   "outputs": [
    {
     "name": "stdout",
     "output_type": "stream",
     "text": [
      "You are a SILVER Customer\n",
      "Total Amount : ₹ 10800.0\n"
     ]
    }
   ],
   "source": [
    "# 3.\n",
    "n = int(input(\"Enter the total shopping Amount : ₹\")) # Input - ₹12000\n",
    "if n <= 10000 : \n",
    "# Comparing Value and Setting Category and Discount !!\n",
    "    Cat = \"BRONZE\"\n",
    "    Per = 5\n",
    "elif n <= 25000 :\n",
    "    Cat = \"SILVER\"\n",
    "    Per = 10\n",
    "else :\n",
    "    Cat = \"GOLD\"\n",
    "    Per = 20\n",
    "print(\"You are a\",Cat,\"Customer\")\n",
    "print(\"Total Amount : ₹\",n-(n*(Per/100)))\n"
   ]
  },
  {
   "cell_type": "code",
   "execution_count": 82,
   "metadata": {},
   "outputs": [
    {
     "name": "stdout",
     "output_type": "stream",
     "text": [
      "Days Left for Year End : 133\n"
     ]
    }
   ],
   "source": [
    "# 4.\n",
    "CD = int(input(\"Enter Current Date : \")) # Input - 13\n",
    "CM = int(input(\"Enter Current Month : \")) # Input - 10\n",
    "if CM == 1: # Comparing Months and Subtracting Date !!\n",
    "    tday = 31-CD\n",
    "    days = 334+tday\n",
    "elif CM == 2:\n",
    "    tday = 28-CD\n",
    "    days = 306+tday\n",
    "elif CM == 3:\n",
    "    tday = 31-CD\n",
    "    days = 275+tday\n",
    "elif CM == 4:\n",
    "    tday = 30-CD\n",
    "    days = 245+tday\n",
    "elif CM == 5:\n",
    "    tday = 31-CD\n",
    "    days = 214+tday\n",
    "elif CM == 6:\n",
    "    tday = 30-CD\n",
    "    days = 184+tday\n",
    "elif CM == 7:\n",
    "    tday = 31-CD\n",
    "    days = 153+tday\n",
    "elif CM == 8:\n",
    "    tday = 31-CD\n",
    "    days = 122+tday\n",
    "elif CM == 9:\n",
    "    tday = 30-CD\n",
    "    days = 92+tday\n",
    "elif CM == 10:\n",
    "    tday = 31-CD\n",
    "    days = 61+tday\n",
    "elif CM == 11:\n",
    "    tday = 30-CD\n",
    "    day = 31+tday\n",
    "else :\n",
    "    day = 31-CD \n",
    "print (\"Days Left for Year End :\",days)"
   ]
  },
  {
   "cell_type": "code",
   "execution_count": 93,
   "metadata": {},
   "outputs": [
    {
     "name": "stdout",
     "output_type": "stream",
     "text": [
      "No. is Prime\n"
     ]
    }
   ],
   "source": [
    "# Loops\n",
    "# 1.\n",
    "f = 1\n",
    "n = int(input(\"Enter the No.\")) # Input - 29\n",
    "for i in range (2,n): # For back values check !!\n",
    "    if n%i==0:\n",
    "        f = 0\n",
    "if f == 0:\n",
    "    print(\"No. is Composite\")\n",
    "else :\n",
    "    print(\"No. is Prime\")"
   ]
  },
  {
   "cell_type": "code",
   "execution_count": 100,
   "metadata": {},
   "outputs": [
    {
     "name": "stdout",
     "output_type": "stream",
     "text": [
      "Factorial of 4 is 24\n"
     ]
    }
   ],
   "source": [
    "# 2.\n",
    "n = int(input(\"Enter No. : \")) # Input - 4\n",
    "sum = 1 # Multplication can be 0, so initialized with 1\n",
    "for i in range (n,1,-1): # Reversed Loop\n",
    "    sum *= i\n",
    "print (f\"Factorial of {n} is {sum}\") # f - format print"
   ]
  },
  {
   "cell_type": "code",
   "execution_count": 102,
   "metadata": {},
   "outputs": [
    {
     "name": "stdout",
     "output_type": "stream",
     "text": [
      "5\n"
     ]
    }
   ],
   "source": [
    "# 3.\n",
    "n = input(\"Enter No. : \") # Input - 32\n",
    "sum = 0 # Initialize to 0\n",
    "for i in range (0,len(n)):\n",
    "    sum += int(n[i]) # Traversing for additon, and integer typecasting !!\n",
    "print(sum)"
   ]
  },
  {
   "cell_type": "code",
   "execution_count": 112,
   "metadata": {},
   "outputs": [
    {
     "name": "stdout",
     "output_type": "stream",
     "text": [
      "153 370 371 407 "
     ]
    }
   ],
   "source": [
    "# 4.\n",
    "# If entered value is 153, then 1**3+5**3+3**3 = 153\n",
    "# This is Armstrong Number\n",
    "for i in range (100,1000): # 100-999\n",
    "    i = str(i)\n",
    "    sum = 0\n",
    "    for j in range (0,3):\n",
    "        sum += int(i[j])**3\n",
    "    if sum == int(i) :\n",
    "        print(i,end=\" \")"
   ]
  },
  {
   "cell_type": "code",
   "execution_count": 110,
   "metadata": {},
   "outputs": [
    {
     "name": "stdout",
     "output_type": "stream",
     "text": [
      "3*1=3\n",
      "3*2=6\n",
      "3*3=9\n",
      "3*4=12\n",
      "3*5=15\n",
      "3*6=18\n",
      "3*7=21\n",
      "3*8=24\n",
      "3*9=27\n",
      "3*10=30\n"
     ]
    }
   ],
   "source": [
    "# 5.\n",
    "n = int(input(\"Enter the No. : \")) # Input - 3\n",
    "for i in range (1,11):\n",
    "    m = i*n\n",
    "    print(f\"{n}*{i}={m}\")\n"
   ]
  },
  {
   "cell_type": "code",
   "execution_count": 120,
   "metadata": {},
   "outputs": [
    {
     "name": "stdout",
     "output_type": "stream",
     "text": [
      "YES\n"
     ]
    }
   ],
   "source": [
    "# 6.\n",
    "N = int(input(\"Enter No. of Kids : \")) # Input - 2\n",
    "C = int(input(\"Enter No. of Candies : \")) # Input - 10\n",
    "f = 1 \n",
    "for i in range (1,N+1):\n",
    "    A = int(input(f\"Enter No. of Candy required for Kid No. {i}\"))\n",
    "    # Input - 5 , 4\n",
    "    C = C-A\n",
    "    if C < 0 :\n",
    "        f = 0\n",
    "        break\n",
    "if f == 1:\n",
    "    print(\"YES\")\n",
    "else :\n",
    "    print(\"NO\")\n"
   ]
  },
  {
   "cell_type": "code",
   "execution_count": 151,
   "metadata": {},
   "outputs": [
    {
     "name": "stdout",
     "output_type": "stream",
     "text": [
      "Mobile Phone still OFF of ->\n",
      "Roll No. 1\n",
      "Roll No. 4\n",
      "Roll No. 9\n",
      "Roll No. 16\n",
      "Roll No. 25\n",
      "Roll No. 36\n",
      "Roll No. 49\n",
      "Roll No. 51\n",
      "Roll No. 52\n",
      "Roll No. 53\n",
      "Roll No. 54\n",
      "Roll No. 55\n",
      "Roll No. 56\n",
      "Roll No. 57\n",
      "Roll No. 58\n",
      "Roll No. 59\n",
      "Roll No. 60\n",
      "Roll No. 61\n",
      "Roll No. 62\n",
      "Roll No. 63\n",
      "Roll No. 65\n",
      "Roll No. 66\n",
      "Roll No. 67\n",
      "Roll No. 68\n",
      "Roll No. 69\n",
      "Roll No. 70\n",
      "Roll No. 71\n",
      "Roll No. 72\n",
      "Roll No. 73\n",
      "Roll No. 74\n",
      "Roll No. 75\n",
      "Roll No. 76\n",
      "Roll No. 77\n",
      "Roll No. 78\n",
      "Roll No. 79\n",
      "Roll No. 80\n",
      "Roll No. 82\n",
      "Roll No. 83\n",
      "Roll No. 84\n",
      "Roll No. 85\n",
      "Roll No. 86\n",
      "Roll No. 87\n",
      "Roll No. 88\n",
      "Roll No. 89\n",
      "Roll No. 90\n",
      "Roll No. 91\n",
      "Roll No. 92\n",
      "Roll No. 93\n",
      "Roll No. 94\n",
      "Roll No. 95\n",
      "Roll No. 96\n",
      "Roll No. 97\n",
      "Roll No. 98\n",
      "Roll No. 99\n",
      "Roll No. 101\n",
      "Roll No. 103\n",
      "Roll No. 105\n",
      "Roll No. 107\n",
      "Roll No. 109\n",
      "Roll No. 111\n",
      "Roll No. 113\n",
      "Roll No. 115\n",
      "Roll No. 117\n",
      "Roll No. 119\n",
      "Roll No. 123\n",
      "Roll No. 125\n",
      "Roll No. 127\n",
      "Roll No. 129\n",
      "Roll No. 131\n",
      "Roll No. 133\n",
      "Roll No. 135\n",
      "Roll No. 137\n",
      "Roll No. 139\n",
      "Roll No. 141\n",
      "Roll No. 143\n",
      "Roll No. 144\n",
      "Roll No. 145\n",
      "Roll No. 147\n",
      "Roll No. 149\n",
      "Roll No. 151\n",
      "Roll No. 155\n",
      "Roll No. 156\n",
      "Roll No. 157\n",
      "Roll No. 161\n",
      "Roll No. 162\n",
      "Roll No. 163\n",
      "Roll No. 167\n",
      "Roll No. 168\n",
      "Roll No. 173\n",
      "Roll No. 174\n",
      "Roll No. 175\n",
      "Roll No. 179\n",
      "Roll No. 180\n",
      "Roll No. 181\n",
      "Roll No. 185\n",
      "Roll No. 186\n",
      "Roll No. 187\n",
      "Roll No. 191\n",
      "Roll No. 192\n",
      "Roll No. 193\n",
      "Roll No. 196\n",
      "Roll No. 197\n",
      "Roll No. 198\n",
      "Roll No. 199\n",
      "Roll No. 203\n",
      "Roll No. 205\n",
      "Roll No. 208\n",
      "Roll No. 209\n",
      "Roll No. 210\n",
      "Roll No. 211\n",
      "Roll No. 212\n",
      "Roll No. 215\n",
      "Roll No. 217\n",
      "Roll No. 220\n",
      "Roll No. 221\n",
      "Roll No. 222\n",
      "Roll No. 223\n",
      "Roll No. 224\n",
      "Roll No. 225\n",
      "Roll No. 227\n",
      "Roll No. 229\n",
      "Roll No. 232\n",
      "Roll No. 233\n",
      "Roll No. 234\n",
      "Roll No. 235\n",
      "Roll No. 236\n",
      "Roll No. 239\n",
      "Roll No. 241\n",
      "Roll No. 244\n",
      "Roll No. 245\n",
      "Roll No. 246\n",
      "Roll No. 247\n",
      "Roll No. 248\n",
      "Roll No. 251\n",
      "Roll No. 253\n",
      "Roll No. 255\n",
      "Roll No. 257\n",
      "Roll No. 258\n",
      "Roll No. 259\n",
      "Roll No. 263\n",
      "Roll No. 268\n",
      "Roll No. 269\n",
      "Roll No. 271\n",
      "Roll No. 272\n",
      "Roll No. 277\n",
      "Roll No. 281\n",
      "Roll No. 282\n",
      "Roll No. 283\n",
      "Roll No. 284\n",
      "Roll No. 285\n",
      "Roll No. 287\n",
      "Roll No. 290\n",
      "Roll No. 292\n",
      "Roll No. 293\n",
      "Roll No. 294\n",
      "Roll No. 296\n",
      "Roll No. 299\n",
      "Roll No. 300\n",
      "Roll No. 301\n",
      "Roll No. 304\n",
      "Roll No. 307\n",
      "Roll No. 308\n",
      "Roll No. 310\n",
      "Roll No. 311\n",
      "Roll No. 312\n",
      "Roll No. 313\n",
      "Roll No. 315\n",
      "Roll No. 316\n",
      "Roll No. 317\n",
      "Roll No. 319\n",
      "Roll No. 323\n",
      "Roll No. 328\n",
      "Roll No. 329\n",
      "Roll No. 330\n",
      "Roll No. 331\n",
      "Roll No. 332\n",
      "Roll No. 336\n",
      "Roll No. 337\n",
      "Roll No. 341\n",
      "Roll No. 343\n",
      "Roll No. 344\n",
      "Roll No. 345\n",
      "Roll No. 347\n",
      "Roll No. 348\n",
      "Roll No. 349\n",
      "Roll No. 350\n",
      "Roll No. 352\n",
      "Roll No. 353\n",
      "Roll No. 356\n",
      "Roll No. 357\n",
      "Roll No. 359\n",
      "Roll No. 367\n",
      "Roll No. 368\n",
      "Roll No. 370\n",
      "Roll No. 372\n",
      "Roll No. 373\n",
      "Roll No. 375\n",
      "Roll No. 376\n",
      "Roll No. 377\n",
      "Roll No. 378\n",
      "Roll No. 379\n",
      "Roll No. 383\n",
      "Roll No. 384\n",
      "Roll No. 385\n",
      "Roll No. 388\n",
      "Roll No. 389\n",
      "Roll No. 390\n",
      "Roll No. 391\n",
      "Roll No. 396\n",
      "Roll No. 397\n",
      "Roll No. 399\n",
      "Roll No. 400\n",
      "Roll No. 401\n",
      "Roll No. 403\n",
      "Roll No. 404\n",
      "Roll No. 405\n",
      "Roll No. 406\n",
      "Roll No. 407\n",
      "Roll No. 409\n",
      "Roll No. 410\n",
      "Roll No. 412\n",
      "Roll No. 419\n",
      "Roll No. 420\n",
      "Roll No. 421\n",
      "Roll No. 428\n",
      "Roll No. 430\n",
      "Roll No. 431\n",
      "Roll No. 433\n",
      "Roll No. 434\n",
      "Roll No. 435\n",
      "Roll No. 436\n",
      "Roll No. 437\n",
      "Roll No. 439\n",
      "Roll No. 440\n",
      "Roll No. 443\n",
      "Roll No. 444\n",
      "Roll No. 448\n",
      "Roll No. 449\n",
      "Roll No. 450\n",
      "Roll No. 451\n",
      "Roll No. 452\n",
      "Roll No. 455\n",
      "Roll No. 457\n",
      "Roll No. 459\n",
      "Roll No. 461\n",
      "Roll No. 462\n",
      "Roll No. 463\n",
      "Roll No. 465\n",
      "Roll No. 467\n",
      "Roll No. 470\n",
      "Roll No. 473\n",
      "Roll No. 477\n",
      "Roll No. 479\n",
      "Roll No. 480\n",
      "Roll No. 481\n",
      "Roll No. 483\n",
      "Roll No. 486\n",
      "Roll No. 487\n",
      "Roll No. 491\n",
      "Roll No. 492\n",
      "Roll No. 493\n",
      "Roll No. 499\n"
     ]
    }
   ],
   "source": [
    "# 7.\n",
    "l = []\n",
    "l.append(None)\n",
    "for i in range (1,501):\n",
    "    l.append(\"ON\")\n",
    "for i in range (1,51):\n",
    "    for j in range (i,501):\n",
    "        if j%i == 0 :    \n",
    "            if l[j] == \"ON\" :\n",
    "                l[j] = \"OFF\"\n",
    "            else :\n",
    "                l[j] = \"ON\"\n",
    "print (\"Mobile Phone still OFF of ->\")\n",
    "for i in range (0,len(l)):    \n",
    "    if l[i] == \"OFF\":\n",
    "        print (\"Roll No.\",i)"
   ]
  },
  {
   "cell_type": "code",
   "execution_count": 174,
   "metadata": {},
   "outputs": [
    {
     "name": "stdout",
     "output_type": "stream",
     "text": [
      "Computer Wins !!\n"
     ]
    }
   ],
   "source": [
    "# 8.\n",
    "TOT = 51\n",
    "f = 1\n",
    "while TOT != 1:\n",
    "    UN = int(input(\"Enter No. of Balls (1-4) only : \"))\n",
    "    if UN <= 4 and UN >= 1 and UN <= TOT:\n",
    "        CT = 5-UN\n",
    "        TOT -= CT+UN\n",
    "if TOT == 1:\n",
    "    print(\"Computer Wins !!\")\n",
    "else :\n",
    "    print(\"Human Wins !!\")\n",
    "    \n",
    "        \n"
   ]
  }
 ],
 "metadata": {
  "interpreter": {
   "hash": "cb0c3686fe04eaafaa7ba08a2c95f2d49b3da235373f015869b2209abafd3103"
  },
  "kernelspec": {
   "display_name": "Python 3.9.6 64-bit",
   "language": "python",
   "name": "python3"
  },
  "language_info": {
   "codemirror_mode": {
    "name": "ipython",
    "version": 3
   },
   "file_extension": ".py",
   "mimetype": "text/x-python",
   "name": "python",
   "nbconvert_exporter": "python",
   "pygments_lexer": "ipython3",
   "version": "3.9.6"
  },
  "orig_nbformat": 4
 },
 "nbformat": 4,
 "nbformat_minor": 2
}
