{
 "cells": [
  {
   "cell_type": "code",
   "execution_count": 6,
   "metadata": {},
   "outputs": [
    {
     "name": "stdout",
     "output_type": "stream",
     "text": [
      "['world', 'estart', 'hellos']\n",
      "world hellos\n"
     ]
    }
   ],
   "source": [
    "# 9.\n",
    "st = input().split()\n",
    "st.sort()\n",
    "st.sort(key=len)\n",
    "print(st)\n",
    "print(st[0],st[-1])"
   ]
  },
  {
   "cell_type": "code",
   "execution_count": 7,
   "metadata": {},
   "outputs": [
    {
     "name": "stdout",
     "output_type": "stream",
     "text": [
      "hello aman bajpai "
     ]
    }
   ],
   "source": [
    "# 11.\n",
    "st = input().split()\n",
    "l = []\n",
    "for i in range (0,len(st)):\n",
    "    if st[i] not in l:\n",
    "        l.append(st[i])\n",
    "for i in l:\n",
    "    print(i,end=\" \")"
   ]
  },
  {
   "cell_type": "code",
   "execution_count": 8,
   "metadata": {},
   "outputs": [
    {
     "name": "stdout",
     "output_type": "stream",
     "text": [
      "1\n"
     ]
    }
   ],
   "source": [
    "# 13.\n",
    "st = input(\"Enter String : \")\n",
    "sb = input(\"Enter Substring : \")\n",
    "f = st.count(sb)\n",
    "print(f)"
   ]
  },
  {
   "cell_type": "code",
   "execution_count": 9,
   "metadata": {},
   "outputs": [
    {
     "name": "stdout",
     "output_type": "stream",
     "text": [
      "sujals madarpranams "
     ]
    }
   ],
   "source": [
    "# 14.\n",
    "st = input().split()\n",
    "for i in range (0,len(st)):\n",
    "    if st[i][-1]==\"s\":\n",
    "        print(st[i],end=' ')"
   ]
  },
  {
   "cell_type": "code",
   "execution_count": 11,
   "metadata": {},
   "outputs": [
    {
     "name": "stdout",
     "output_type": "stream",
     "text": [
      "aman\n"
     ]
    }
   ],
   "source": [
    "# 15.\n",
    "st = input().split()\n",
    "l = []\n",
    "for i in range (0,len(st)):    \n",
    "    if st.count(st[i]) >= 2:\n",
    "        if st[i] not in l :\n",
    "            l.append(st[i])\n",
    "for i in l :\n",
    "    print(i)"
   ]
  },
  {
   "cell_type": "code",
   "execution_count": 26,
   "metadata": {},
   "outputs": [
    {
     "name": "stdout",
     "output_type": "stream",
     "text": [
      "su\n",
      "jal\n"
     ]
    }
   ],
   "source": [
    "# 16.\n",
    "st = input()\n",
    "n = int(input())\n",
    "parts = round(len(st)/n)\n",
    "c = 1\n",
    "if parts >= 1 :\n",
    "    for i in range (0,len(st),parts) :   \n",
    "        if c != parts :\n",
    "            print(st[i:i+parts])\n",
    "            c += 1\n",
    "        else :\n",
    "            print(st[i:])\n",
    "            break\n",
    "else :\n",
    "    print(\"Index Out of Range\")"
   ]
  },
  {
   "cell_type": "code",
   "execution_count": 32,
   "metadata": {},
   "outputs": [
    {
     "name": "stdout",
     "output_type": "stream",
     "text": [
      "e happy count\n"
     ]
    }
   ],
   "source": [
    "# 17.\n",
    "st = input()\n",
    "st = st.replace(\"b\",\"\")\n",
    "st = st.replace(\"ac\",\"\")\n",
    "print(st)"
   ]
  }
 ],
 "metadata": {
  "interpreter": {
   "hash": "cb0c3686fe04eaafaa7ba08a2c95f2d49b3da235373f015869b2209abafd3103"
  },
  "kernelspec": {
   "display_name": "Python 3.9.6 64-bit",
   "language": "python",
   "name": "python3"
  },
  "language_info": {
   "codemirror_mode": {
    "name": "ipython",
    "version": 3
   },
   "file_extension": ".py",
   "mimetype": "text/x-python",
   "name": "python",
   "nbconvert_exporter": "python",
   "pygments_lexer": "ipython3",
   "version": "3.9.6"
  },
  "orig_nbformat": 4
 },
 "nbformat": 4,
 "nbformat_minor": 2
}
